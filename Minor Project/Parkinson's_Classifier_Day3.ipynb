{
 "cells": [
  {
   "cell_type": "code",
   "execution_count": 36,
   "metadata": {
    "ExecuteTime": {
     "end_time": "2020-09-03T05:56:22.989040Z",
     "start_time": "2020-09-03T05:56:22.293284Z"
    }
   },
   "outputs": [],
   "source": [
    "import pandas as pd \n",
    "import numpy as np \n",
    "import matplotlib.pyplot as plt \n",
    "%matplotlib inline\n",
    "from sklearn.preprocessing import StandardScaler\n",
    "from sklearn.model_selection import train_test_split as tts\n",
    "from sklearn.metrics import accuracy_score\n",
    "from sklearn.linear_model import LogisticRegression\n",
    "from sklearn.neighbors import KNeighborsClassifier\n",
    "from sklearn.tree import DecisionTreeClassifier\n",
    "from sklearn.ensemble import RandomForestClassifier\n",
    "import xgboost as xgb "
   ]
  },
  {
   "cell_type": "code",
   "execution_count": 2,
   "metadata": {
    "ExecuteTime": {
     "end_time": "2020-09-03T05:47:16.037002Z",
     "start_time": "2020-09-03T05:47:15.512399Z"
    }
   },
   "outputs": [
    {
     "data": {
      "text/html": [
       "<div>\n",
       "<style scoped>\n",
       "    .dataframe tbody tr th:only-of-type {\n",
       "        vertical-align: middle;\n",
       "    }\n",
       "\n",
       "    .dataframe tbody tr th {\n",
       "        vertical-align: top;\n",
       "    }\n",
       "\n",
       "    .dataframe thead th {\n",
       "        text-align: right;\n",
       "    }\n",
       "</style>\n",
       "<table border=\"1\" class=\"dataframe\">\n",
       "  <thead>\n",
       "    <tr style=\"text-align: right;\">\n",
       "      <th></th>\n",
       "      <th>spread1</th>\n",
       "      <th>MDVP:APQ</th>\n",
       "      <th>PPE</th>\n",
       "      <th>MDVP:Shimmer</th>\n",
       "      <th>MDVP:Shimmer(dB)</th>\n",
       "    </tr>\n",
       "  </thead>\n",
       "  <tbody>\n",
       "    <tr>\n",
       "      <th>0</th>\n",
       "      <td>0.569875</td>\n",
       "      <td>0.480463</td>\n",
       "      <td>0.750510</td>\n",
       "      <td>0.603244</td>\n",
       "      <td>0.590614</td>\n",
       "    </tr>\n",
       "    <tr>\n",
       "      <th>1</th>\n",
       "      <td>0.703277</td>\n",
       "      <td>0.610978</td>\n",
       "      <td>0.855157</td>\n",
       "      <td>0.737209</td>\n",
       "      <td>0.731658</td>\n",
       "    </tr>\n",
       "    <tr>\n",
       "      <th>2</th>\n",
       "      <td>0.636745</td>\n",
       "      <td>0.544553</td>\n",
       "      <td>0.813535</td>\n",
       "      <td>0.674276</td>\n",
       "      <td>0.635870</td>\n",
       "    </tr>\n",
       "    <tr>\n",
       "      <th>3</th>\n",
       "      <td>0.695627</td>\n",
       "      <td>0.561300</td>\n",
       "      <td>0.855487</td>\n",
       "      <td>0.693413</td>\n",
       "      <td>0.661557</td>\n",
       "    </tr>\n",
       "    <tr>\n",
       "      <th>4</th>\n",
       "      <td>0.762472</td>\n",
       "      <td>0.618416</td>\n",
       "      <td>0.898475</td>\n",
       "      <td>0.755571</td>\n",
       "      <td>0.706210</td>\n",
       "    </tr>\n",
       "  </tbody>\n",
       "</table>\n",
       "</div>"
      ],
      "text/plain": [
       "    spread1  MDVP:APQ       PPE  MDVP:Shimmer  MDVP:Shimmer(dB)\n",
       "0  0.569875  0.480463  0.750510      0.603244          0.590614\n",
       "1  0.703277  0.610978  0.855157      0.737209          0.731658\n",
       "2  0.636745  0.544553  0.813535      0.674276          0.635870\n",
       "3  0.695627  0.561300  0.855487      0.693413          0.661557\n",
       "4  0.762472  0.618416  0.898475      0.755571          0.706210"
      ]
     },
     "execution_count": 2,
     "metadata": {},
     "output_type": "execute_result"
    }
   ],
   "source": [
    "import os \n",
    "os.chdir(\"D:\\\\Technocolabs Machine Learning Internship\\\\Minor Project\\\\Dataset\")\n",
    "\n",
    "x = pd.read_csv(\"top5feat.csv\")\n",
    "x.head()"
   ]
  },
  {
   "cell_type": "code",
   "execution_count": 3,
   "metadata": {
    "ExecuteTime": {
     "end_time": "2020-09-03T05:47:16.069893Z",
     "start_time": "2020-09-03T05:47:16.037970Z"
    }
   },
   "outputs": [
    {
     "data": {
      "text/plain": [
       "0    1\n",
       "1    1\n",
       "2    1\n",
       "3    1\n",
       "4    1\n",
       "Name: status, dtype: int64"
      ]
     },
     "execution_count": 3,
     "metadata": {},
     "output_type": "execute_result"
    }
   ],
   "source": [
    "df = pd.read_csv(\"parkinsons.data\")\n",
    "y = df[\"status\"]\n",
    "y.head()"
   ]
  },
  {
   "cell_type": "markdown",
   "metadata": {},
   "source": [
    "### Splitting Data "
   ]
  },
  {
   "cell_type": "code",
   "execution_count": 4,
   "metadata": {
    "ExecuteTime": {
     "end_time": "2020-09-03T05:47:16.082849Z",
     "start_time": "2020-09-03T05:47:16.072876Z"
    }
   },
   "outputs": [
    {
     "data": {
      "text/plain": [
       "((156, 5), (156,))"
      ]
     },
     "execution_count": 4,
     "metadata": {},
     "output_type": "execute_result"
    }
   ],
   "source": [
    "train_x,test_x,train_y,test_y = tts(x,y,test_size=0.2,random_state=96,stratify=y)\n",
    "train_x.shape,train_y.shape"
   ]
  },
  {
   "cell_type": "code",
   "execution_count": 5,
   "metadata": {
    "ExecuteTime": {
     "end_time": "2020-09-03T05:47:16.092822Z",
     "start_time": "2020-09-03T05:47:16.084844Z"
    }
   },
   "outputs": [
    {
     "data": {
      "text/plain": [
       "((39, 5), (39,))"
      ]
     },
     "execution_count": 5,
     "metadata": {},
     "output_type": "execute_result"
    }
   ],
   "source": [
    "test_x.shape,test_y.shape"
   ]
  },
  {
   "cell_type": "markdown",
   "metadata": {},
   "source": [
    "### Model Building "
   ]
  },
  {
   "cell_type": "markdown",
   "metadata": {},
   "source": [
    "### XGB"
   ]
  },
  {
   "cell_type": "code",
   "execution_count": 41,
   "metadata": {
    "ExecuteTime": {
     "end_time": "2020-09-03T05:57:16.310914Z",
     "start_time": "2020-09-03T05:57:15.944720Z"
    }
   },
   "outputs": [
    {
     "data": {
      "text/plain": [
       "XGBClassifier(alpha=10, base_score=0.5, booster='gbtree', colsample_bylevel=1,\n",
       "              colsample_bynode=1, colsample_bytree=0.8, gamma=0, gpu_id=-1,\n",
       "              importance_type='gain', interaction_constraints='',\n",
       "              learning_rate=0.5, max_delta_step=0, max_depth=4,\n",
       "              min_child_weight=8, missing=nan, monotone_constraints='()',\n",
       "              n_estimators=100, n_jobs=0, num_parallel_tree=1, random_state=40,\n",
       "              reg_alpha=10, reg_lambda=0.01, scale_pos_weight=1, seed=40,\n",
       "              subsample=0.8, tree_method='exact', validate_parameters=1,\n",
       "              verbosity=None)"
      ]
     },
     "execution_count": 41,
     "metadata": {},
     "output_type": "execute_result"
    }
   ],
   "source": [
    "model = xgb.XGBClassifier(colsample_bytree=0.8,\n",
    "                          gamma=0,\n",
    "                          learning_rate=0.5,\n",
    "                          max_depth=4,\n",
    "                          min_child_weight=8,\n",
    "                          n_estimators=100,\n",
    "                          alpha=10,\n",
    "                          reg_lambda=0.01,\n",
    "                          subsample=0.8,\n",
    "                          seed=40)\n",
    "\n",
    "model.fit(train_x, train_y)"
   ]
  },
  {
   "cell_type": "code",
   "execution_count": 42,
   "metadata": {
    "ExecuteTime": {
     "end_time": "2020-09-03T05:57:26.942254Z",
     "start_time": "2020-09-03T05:57:26.930286Z"
    }
   },
   "outputs": [
    {
     "name": "stdout",
     "output_type": "stream",
     "text": [
      "Training Score :  0.8589743589743589\n",
      "Testing Score :  0.8461538461538461\n"
     ]
    }
   ],
   "source": [
    "train_predict = model.predict(train_x)\n",
    "test_predict = model.predict(test_x)\n",
    "\n",
    "train_score = accuracy_score(train_predict, train_y)\n",
    "test_score = accuracy_score(test_predict, test_y)\n",
    "print(\"Training Score : \", train_score)\n",
    "print(\"Testing Score : \", test_score)"
   ]
  },
  {
   "cell_type": "markdown",
   "metadata": {},
   "source": [
    "#### Logistic Regression Model"
   ]
  },
  {
   "cell_type": "code",
   "execution_count": 6,
   "metadata": {
    "ExecuteTime": {
     "end_time": "2020-09-03T05:47:16.124294Z",
     "start_time": "2020-09-03T05:47:16.093819Z"
    }
   },
   "outputs": [
    {
     "data": {
      "text/plain": [
       "LogisticRegression()"
      ]
     },
     "execution_count": 6,
     "metadata": {},
     "output_type": "execute_result"
    }
   ],
   "source": [
    "lr = LogisticRegression()\n",
    "lr.fit(train_x,train_y)"
   ]
  },
  {
   "cell_type": "code",
   "execution_count": 7,
   "metadata": {
    "ExecuteTime": {
     "end_time": "2020-09-03T05:47:16.143245Z",
     "start_time": "2020-09-03T05:47:16.126259Z"
    }
   },
   "outputs": [
    {
     "name": "stdout",
     "output_type": "stream",
     "text": [
      "Training Score :  0.8141025641025641\n",
      "Testing Score :  0.8461538461538461\n"
     ]
    }
   ],
   "source": [
    "lr_train_predict = lr.predict(train_x)\n",
    "lr_test_predict = lr.predict(test_x)\n",
    "\n",
    "lr_train_score = accuracy_score(lr_train_predict, train_y)\n",
    "lr_test_score = accuracy_score(lr_test_predict, test_y)\n",
    "print(\"Training Score : \", lr_train_score)\n",
    "print(\"Testing Score : \", lr_test_score)"
   ]
  },
  {
   "cell_type": "code",
   "execution_count": 8,
   "metadata": {
    "ExecuteTime": {
     "end_time": "2020-09-03T05:47:16.193467Z",
     "start_time": "2020-09-03T05:47:16.145203Z"
    }
   },
   "outputs": [
    {
     "data": {
      "text/plain": [
       "array([0.87179487, 0.82051282, 0.74358974, 0.69230769, 0.82051282])"
      ]
     },
     "execution_count": 8,
     "metadata": {},
     "output_type": "execute_result"
    }
   ],
   "source": [
    "# K-Fold Cross Validation\n",
    "from sklearn.model_selection import ShuffleSplit\n",
    "from sklearn.model_selection import cross_val_score\n",
    "\n",
    "cv = ShuffleSplit(n_splits=5,test_size=0.2,random_state=0)\n",
    "\n",
    "lr_crossmodel = cross_val_score(lr,x,y,cv=cv)\n",
    "lr_crossmodel"
   ]
  },
  {
   "cell_type": "markdown",
   "metadata": {},
   "source": [
    "#### KNN Classifier"
   ]
  },
  {
   "cell_type": "code",
   "execution_count": 9,
   "metadata": {
    "ExecuteTime": {
     "end_time": "2020-09-03T05:47:16.202336Z",
     "start_time": "2020-09-03T05:47:16.194464Z"
    }
   },
   "outputs": [
    {
     "data": {
      "text/plain": [
       "KNeighborsClassifier()"
      ]
     },
     "execution_count": 9,
     "metadata": {},
     "output_type": "execute_result"
    }
   ],
   "source": [
    "from sklearn.metrics import f1_score\n",
    "knn = KNeighborsClassifier(n_neighbors=5)\n",
    "knn.fit(train_x,train_y)"
   ]
  },
  {
   "cell_type": "code",
   "execution_count": 10,
   "metadata": {
    "ExecuteTime": {
     "end_time": "2020-09-03T05:47:16.227304Z",
     "start_time": "2020-09-03T05:47:16.205329Z"
    }
   },
   "outputs": [
    {
     "name": "stdout",
     "output_type": "stream",
     "text": [
      "Training Score :  0.9230769230769231\n",
      "Testing Score :  0.8461538461538461\n"
     ]
    }
   ],
   "source": [
    "knn_train_predict = knn.predict(train_x)\n",
    "knn_test_predict = knn.predict(test_x)\n",
    "\n",
    "knn_train_score = accuracy_score(knn_train_predict, train_y)\n",
    "knn_test_score = accuracy_score(knn_test_predict, test_y)\n",
    "print(\"Training Score : \", knn_train_score)\n",
    "print(\"Testing Score : \", knn_test_score)"
   ]
  },
  {
   "cell_type": "markdown",
   "metadata": {},
   "source": [
    "* Optimizing using Elbow Method"
   ]
  },
  {
   "cell_type": "code",
   "execution_count": 11,
   "metadata": {
    "ExecuteTime": {
     "end_time": "2020-09-03T05:47:16.233253Z",
     "start_time": "2020-09-03T05:47:16.228267Z"
    }
   },
   "outputs": [],
   "source": [
    "def Elbow(K):\n",
    "    e=[]\n",
    "    for i in K:\n",
    "        knn=KNeighborsClassifier(n_neighbors=i)\n",
    "        knn.fit(train_x,train_y)\n",
    "        tmp=knn.predict(test_x)\n",
    "        tmp=f1_score(tmp,test_y)\n",
    "        error=1-tmp\n",
    "        e.append(error)\n",
    "    return e"
   ]
  },
  {
   "cell_type": "code",
   "execution_count": 12,
   "metadata": {
    "ExecuteTime": {
     "end_time": "2020-09-03T05:47:16.243226Z",
     "start_time": "2020-09-03T05:47:16.235247Z"
    }
   },
   "outputs": [],
   "source": [
    "k=range(1,30)"
   ]
  },
  {
   "cell_type": "code",
   "execution_count": 13,
   "metadata": {
    "ExecuteTime": {
     "end_time": "2020-09-03T05:47:16.411460Z",
     "start_time": "2020-09-03T05:47:16.244223Z"
    }
   },
   "outputs": [],
   "source": [
    "test=Elbow(k)"
   ]
  },
  {
   "cell_type": "code",
   "execution_count": 14,
   "metadata": {
    "ExecuteTime": {
     "end_time": "2020-09-03T05:47:16.595041Z",
     "start_time": "2020-09-03T05:47:16.413288Z"
    }
   },
   "outputs": [
    {
     "data": {
      "text/plain": [
       "[<matplotlib.lines.Line2D at 0x298cec5cd00>]"
      ]
     },
     "execution_count": 14,
     "metadata": {},
     "output_type": "execute_result"
    },
    {
     "data": {
      "image/png": "[encoded data removed]",
      "text/plain": [
       "<Figure size 432x288 with 1 Axes>"
      ]
     },
     "metadata": {
      "needs_background": "light"
     },
     "output_type": "display_data"
    }
   ],
   "source": [
    "plt.plot(k,test)"
   ]
  },
  {
   "cell_type": "code",
   "execution_count": 15,
   "metadata": {
    "ExecuteTime": {
     "end_time": "2020-09-03T05:47:16.603027Z",
     "start_time": "2020-09-03T05:47:16.596038Z"
    }
   },
   "outputs": [
    {
     "data": {
      "text/plain": [
       "KNeighborsClassifier(n_neighbors=4)"
      ]
     },
     "execution_count": 15,
     "metadata": {},
     "output_type": "execute_result"
    }
   ],
   "source": [
    "knn = KNeighborsClassifier(n_neighbors=4)\n",
    "knn.fit(train_x,train_y)"
   ]
  },
  {
   "cell_type": "code",
   "execution_count": 16,
   "metadata": {
    "ExecuteTime": {
     "end_time": "2020-09-03T05:47:16.628949Z",
     "start_time": "2020-09-03T05:47:16.606010Z"
    }
   },
   "outputs": [
    {
     "name": "stdout",
     "output_type": "stream",
     "text": [
      "Training Score :  0.9358974358974359\n",
      "Testing Score :  0.8461538461538461\n"
     ]
    }
   ],
   "source": [
    "knn_train_predict = knn.predict(train_x)\n",
    "knn_test_predict = knn.predict(test_x)\n",
    "\n",
    "knn_train_score = accuracy_score(knn_train_predict, train_y)\n",
    "knn_test_score = accuracy_score(knn_test_predict, test_y)\n",
    "print(\"Training Score : \", knn_train_score)\n",
    "print(\"Testing Score : \", knn_test_score)"
   ]
  },
  {
   "cell_type": "markdown",
   "metadata": {},
   "source": [
    "#### DecisionTree Classifier"
   ]
  },
  {
   "cell_type": "code",
   "execution_count": 17,
   "metadata": {
    "ExecuteTime": {
     "end_time": "2020-09-03T05:47:16.642910Z",
     "start_time": "2020-09-03T05:47:16.630943Z"
    }
   },
   "outputs": [
    {
     "data": {
      "text/plain": [
       "DecisionTreeClassifier()"
      ]
     },
     "execution_count": 17,
     "metadata": {},
     "output_type": "execute_result"
    }
   ],
   "source": [
    "cl=DecisionTreeClassifier()\n",
    "cl.fit(train_x,train_y)"
   ]
  },
  {
   "cell_type": "code",
   "execution_count": 18,
   "metadata": {
    "ExecuteTime": {
     "end_time": "2020-09-03T05:47:16.656877Z",
     "start_time": "2020-09-03T05:47:16.644907Z"
    }
   },
   "outputs": [
    {
     "name": "stdout",
     "output_type": "stream",
     "text": [
      "0.8205128205128205\n"
     ]
    }
   ],
   "source": [
    "print(cl.score(test_x,test_y))"
   ]
  },
  {
   "cell_type": "markdown",
   "metadata": {},
   "source": [
    "* Improving Model"
   ]
  },
  {
   "cell_type": "code",
   "execution_count": 19,
   "metadata": {
    "ExecuteTime": {
     "end_time": "2020-09-03T05:47:16.716710Z",
     "start_time": "2020-09-03T05:47:16.658868Z"
    }
   },
   "outputs": [],
   "source": [
    "train_acc=[]\n",
    "test_acc=[]\n",
    "for i in range(1,10):\n",
    "    dt_model=DecisionTreeClassifier(max_depth=i,random_state=10)\n",
    "    dt_model.fit(train_x,train_y)\n",
    "    train_acc.append(dt_model.score(train_x,train_y))\n",
    "    test_acc.append(dt_model.score(test_x,test_y))"
   ]
  },
  {
   "cell_type": "code",
   "execution_count": 20,
   "metadata": {
    "ExecuteTime": {
     "end_time": "2020-09-03T05:47:16.727606Z",
     "start_time": "2020-09-03T05:47:16.717628Z"
    }
   },
   "outputs": [
    {
     "data": {
      "text/html": [
       "<div>\n",
       "<style scoped>\n",
       "    .dataframe tbody tr th:only-of-type {\n",
       "        vertical-align: middle;\n",
       "    }\n",
       "\n",
       "    .dataframe tbody tr th {\n",
       "        vertical-align: top;\n",
       "    }\n",
       "\n",
       "    .dataframe thead th {\n",
       "        text-align: right;\n",
       "    }\n",
       "</style>\n",
       "<table border=\"1\" class=\"dataframe\">\n",
       "  <thead>\n",
       "    <tr style=\"text-align: right;\">\n",
       "      <th></th>\n",
       "      <th>max_depth</th>\n",
       "      <th>train_acc</th>\n",
       "      <th>test_acc</th>\n",
       "    </tr>\n",
       "  </thead>\n",
       "  <tbody>\n",
       "    <tr>\n",
       "      <th>0</th>\n",
       "      <td>1</td>\n",
       "      <td>0.865385</td>\n",
       "      <td>0.871795</td>\n",
       "    </tr>\n",
       "    <tr>\n",
       "      <th>1</th>\n",
       "      <td>2</td>\n",
       "      <td>0.865385</td>\n",
       "      <td>0.871795</td>\n",
       "    </tr>\n",
       "    <tr>\n",
       "      <th>2</th>\n",
       "      <td>3</td>\n",
       "      <td>0.923077</td>\n",
       "      <td>0.846154</td>\n",
       "    </tr>\n",
       "    <tr>\n",
       "      <th>3</th>\n",
       "      <td>4</td>\n",
       "      <td>0.935897</td>\n",
       "      <td>0.794872</td>\n",
       "    </tr>\n",
       "    <tr>\n",
       "      <th>4</th>\n",
       "      <td>5</td>\n",
       "      <td>0.974359</td>\n",
       "      <td>0.820513</td>\n",
       "    </tr>\n",
       "  </tbody>\n",
       "</table>\n",
       "</div>"
      ],
      "text/plain": [
       "   max_depth  train_acc  test_acc\n",
       "0          1   0.865385  0.871795\n",
       "1          2   0.865385  0.871795\n",
       "2          3   0.923077  0.846154\n",
       "3          4   0.935897  0.794872\n",
       "4          5   0.974359  0.820513"
      ]
     },
     "execution_count": 20,
     "metadata": {},
     "output_type": "execute_result"
    }
   ],
   "source": [
    "frame=pd.DataFrame({\n",
    "    'max_depth':range(1,10),\n",
    "    'train_acc':train_acc,\n",
    "    'test_acc':test_acc,\n",
    "})\n",
    "frame.head()"
   ]
  },
  {
   "cell_type": "code",
   "execution_count": 21,
   "metadata": {
    "ExecuteTime": {
     "end_time": "2020-09-03T05:47:16.883959Z",
     "start_time": "2020-09-03T05:47:16.728599Z"
    }
   },
   "outputs": [
    {
     "name": "stderr",
     "output_type": "stream",
     "text": [
      "No handles with labels found to put in legend.\n"
     ]
    },
    {
     "data": {
      "text/plain": [
       "<matplotlib.legend.Legend at 0x298cf396fa0>"
      ]
     },
     "execution_count": 21,
     "metadata": {},
     "output_type": "execute_result"
    },
    {
     "data": {
      "image/png": "[encoded data removed]",
      "text/plain": [
       "<Figure size 864x432 with 1 Axes>"
      ]
     },
     "metadata": {
      "needs_background": "light"
     },
     "output_type": "display_data"
    }
   ],
   "source": [
    "plt.figure(figsize=(12,6))\n",
    "plt.plot(frame['max_depth'], frame['train_acc'], marker='o')\n",
    "plt.plot(frame['max_depth'], frame['test_acc'], marker='o')\n",
    "plt.xlabel('Depth of tree')\n",
    "plt.ylabel('performance')\n",
    "plt.legend()"
   ]
  },
  {
   "cell_type": "markdown",
   "metadata": {},
   "source": [
    "* Depth should be 2"
   ]
  },
  {
   "cell_type": "code",
   "execution_count": 22,
   "metadata": {
    "ExecuteTime": {
     "end_time": "2020-09-03T05:47:16.892910Z",
     "start_time": "2020-09-03T05:47:16.884966Z"
    }
   },
   "outputs": [
    {
     "data": {
      "text/plain": [
       "DecisionTreeClassifier(max_depth=2)"
      ]
     },
     "execution_count": 22,
     "metadata": {},
     "output_type": "execute_result"
    }
   ],
   "source": [
    "cl=DecisionTreeClassifier(max_depth=2)\n",
    "cl.fit(train_x,train_y)"
   ]
  },
  {
   "cell_type": "code",
   "execution_count": 23,
   "metadata": {
    "ExecuteTime": {
     "end_time": "2020-09-03T05:47:16.911884Z",
     "start_time": "2020-09-03T05:47:16.894905Z"
    }
   },
   "outputs": [
    {
     "name": "stdout",
     "output_type": "stream",
     "text": [
      "Training Score :  0.8653846153846154\n",
      "Testing Score :  0.8717948717948718\n"
     ]
    }
   ],
   "source": [
    "cl_train_predict = cl.predict(train_x)\n",
    "cl_test_predict = cl.predict(test_x)\n",
    "\n",
    "cl_train_score = accuracy_score(cl_train_predict, train_y)\n",
    "cl_test_score = accuracy_score(cl_test_predict, test_y)\n",
    "print(\"Training Score : \", cl_train_score)\n",
    "print(\"Testing Score : \", cl_test_score)"
   ]
  },
  {
   "cell_type": "markdown",
   "metadata": {},
   "source": [
    "This model seems more reliable with higher accuracy"
   ]
  },
  {
   "cell_type": "markdown",
   "metadata": {},
   "source": [
    "#### Random Forest Classifier"
   ]
  },
  {
   "cell_type": "code",
   "execution_count": 24,
   "metadata": {
    "ExecuteTime": {
     "end_time": "2020-09-03T05:47:17.058469Z",
     "start_time": "2020-09-03T05:47:16.913868Z"
    }
   },
   "outputs": [
    {
     "data": {
      "text/plain": [
       "RandomForestClassifier()"
      ]
     },
     "execution_count": 24,
     "metadata": {},
     "output_type": "execute_result"
    }
   ],
   "source": [
    "ran = RandomForestClassifier()\n",
    "ran.fit(train_x,train_y)"
   ]
  },
  {
   "cell_type": "code",
   "execution_count": 26,
   "metadata": {
    "ExecuteTime": {
     "end_time": "2020-09-03T05:48:25.287456Z",
     "start_time": "2020-09-03T05:48:25.261494Z"
    }
   },
   "outputs": [
    {
     "name": "stdout",
     "output_type": "stream",
     "text": [
      "Training Score :  1.0\n",
      "Testing Score :  0.8461538461538461\n"
     ]
    }
   ],
   "source": [
    "ran_train_predict = ran.predict(train_x)\n",
    "ran_test_predict = ran.predict(test_x)\n",
    "\n",
    "ran_train_score = accuracy_score(ran_train_predict, train_y)\n",
    "ran_test_score = accuracy_score(ran_test_predict, test_y)\n",
    "print(\"Training Score : \", ran_train_score)\n",
    "print(\"Testing Score : \", ran_test_score)"
   ]
  },
  {
   "cell_type": "code",
   "execution_count": 27,
   "metadata": {
    "ExecuteTime": {
     "end_time": "2020-09-03T05:49:04.377287Z",
     "start_time": "2020-09-03T05:49:04.367340Z"
    }
   },
   "outputs": [
    {
     "data": {
      "text/plain": [
       "MultinomialNB()"
      ]
     },
     "execution_count": 27,
     "metadata": {},
     "output_type": "execute_result"
    }
   ],
   "source": [
    "from sklearn.naive_bayes import MultinomialNB\n",
    "mn = MultinomialNB()\n",
    "mn.fit(train_x,train_y)"
   ]
  },
  {
   "cell_type": "code",
   "execution_count": 28,
   "metadata": {
    "ExecuteTime": {
     "end_time": "2020-09-03T05:49:48.193985Z",
     "start_time": "2020-09-03T05:49:48.180026Z"
    }
   },
   "outputs": [
    {
     "name": "stdout",
     "output_type": "stream",
     "text": [
      "Training Score :  0.7564102564102564\n",
      "Testing Score :  0.7435897435897436\n"
     ]
    }
   ],
   "source": [
    "mn_train_predict = mn.predict(train_x)\n",
    "mn_test_predict = mn.predict(test_x)\n",
    "\n",
    "mn_train_score = accuracy_score(mn_train_predict, train_y)\n",
    "mn_test_score = accuracy_score(mn_test_predict, test_y)\n",
    "print(\"Training Score : \", mn_train_score)\n",
    "print(\"Testing Score : \", mn_test_score)"
   ]
  },
  {
   "cell_type": "markdown",
   "metadata": {
    "ExecuteTime": {
     "end_time": "2020-09-02T11:58:34.746949Z",
     "start_time": "2020-09-02T11:58:34.741929Z"
    }
   },
   "source": [
    "### Voting Classifier "
   ]
  },
  {
   "cell_type": "code",
   "execution_count": 45,
   "metadata": {
    "ExecuteTime": {
     "end_time": "2020-09-03T05:57:55.902146Z",
     "start_time": "2020-09-03T05:57:55.756291Z"
    }
   },
   "outputs": [
    {
     "data": {
      "text/plain": [
       "VotingClassifier(estimators=[('lr', LogisticRegression()),\n",
       "                             ('knn', KNeighborsClassifier(n_neighbors=4)),\n",
       "                             ('des', DecisionTreeClassifier(max_depth=2)),\n",
       "                             ('rf', RandomForestClassifier()),\n",
       "                             ('mnb', MultinomialNB())])"
      ]
     },
     "execution_count": 45,
     "metadata": {},
     "output_type": "execute_result"
    }
   ],
   "source": [
    "from sklearn.ensemble import VotingClassifier\n",
    "\n",
    "eclf = VotingClassifier(estimators=[\n",
    "    ('lr',lr),('knn',knn),('des',cl),('rf',ran),('mnb',mn)\n",
    "],voting='hard')\n",
    "\n",
    "eclf.fit(train_x,train_y)"
   ]
  },
  {
   "cell_type": "code",
   "execution_count": 46,
   "metadata": {
    "ExecuteTime": {
     "end_time": "2020-09-03T05:57:56.616229Z",
     "start_time": "2020-09-03T05:57:56.572077Z"
    }
   },
   "outputs": [
    {
     "name": "stdout",
     "output_type": "stream",
     "text": [
      "Training Score :  0.9230769230769231\n",
      "Testing Score :  0.8717948717948718\n"
     ]
    }
   ],
   "source": [
    "v_train_predict = eclf.predict(train_x)\n",
    "v_test_predict = eclf.predict(test_x)\n",
    "\n",
    "v_train_score = accuracy_score(v_train_predict, train_y)\n",
    "v_test_score = accuracy_score(v_test_predict, test_y)\n",
    "print(\"Training Score : \", v_train_score)\n",
    "print(\"Testing Score : \", v_test_score)"
   ]
  },
  {
   "cell_type": "code",
   "execution_count": 54,
   "metadata": {
    "ExecuteTime": {
     "end_time": "2020-09-03T06:14:52.655001Z",
     "start_time": "2020-09-03T06:14:52.652040Z"
    }
   },
   "outputs": [],
   "source": [
    "from sklearn.metrics import confusion_matrix,classification_report"
   ]
  },
  {
   "cell_type": "code",
   "execution_count": 53,
   "metadata": {
    "ExecuteTime": {
     "end_time": "2020-09-03T06:14:29.646720Z",
     "start_time": "2020-09-03T06:14:29.637742Z"
    }
   },
   "outputs": [
    {
     "data": {
      "text/plain": [
       "array([[ 5,  0],\n",
       "       [ 5, 29]], dtype=int64)"
      ]
     },
     "execution_count": 53,
     "metadata": {},
     "output_type": "execute_result"
    }
   ],
   "source": [
    "confusion_matrix(v_test_predict,test_y)"
   ]
  },
  {
   "cell_type": "code",
   "execution_count": 55,
   "metadata": {
    "ExecuteTime": {
     "end_time": "2020-09-03T06:15:00.951236Z",
     "start_time": "2020-09-03T06:15:00.943258Z"
    }
   },
   "outputs": [
    {
     "name": "stdout",
     "output_type": "stream",
     "text": [
      "              precision    recall  f1-score   support\n",
      "\n",
      "           0       0.50      1.00      0.67         5\n",
      "           1       1.00      0.85      0.92        34\n",
      "\n",
      "    accuracy                           0.87        39\n",
      "   macro avg       0.75      0.93      0.79        39\n",
      "weighted avg       0.94      0.87      0.89        39\n",
      "\n"
     ]
    }
   ],
   "source": [
    "print(classification_report(v_test_predict,test_y))"
   ]
  },
  {
   "cell_type": "markdown",
   "metadata": {},
   "source": [
    "* Voting Classifier performs best"
   ]
  },
  {
   "cell_type": "markdown",
   "metadata": {},
   "source": [
    "### Selecting Voting Classifier as Model to be deployed"
   ]
  },
  {
   "cell_type": "code",
   "execution_count": 59,
   "metadata": {
    "ExecuteTime": {
     "end_time": "2020-09-03T06:24:41.807448Z",
     "start_time": "2020-09-03T06:24:41.802464Z"
    }
   },
   "outputs": [
    {
     "data": {
      "text/plain": [
       "Index(['spread1', 'MDVP:APQ', 'PPE', 'MDVP:Shimmer', 'MDVP:Shimmer(dB)'], dtype='object')"
      ]
     },
     "execution_count": 59,
     "metadata": {},
     "output_type": "execute_result"
    }
   ],
   "source": [
    "x.columns"
   ]
  },
  {
   "cell_type": "code",
   "execution_count": 67,
   "metadata": {
    "ExecuteTime": {
     "end_time": "2020-09-03T06:25:49.661266Z",
     "start_time": "2020-09-03T06:25:49.650328Z"
    }
   },
   "outputs": [
    {
     "data": {
      "text/html": [
       "<div>\n",
       "<style scoped>\n",
       "    .dataframe tbody tr th:only-of-type {\n",
       "        vertical-align: middle;\n",
       "    }\n",
       "\n",
       "    .dataframe tbody tr th {\n",
       "        vertical-align: top;\n",
       "    }\n",
       "\n",
       "    .dataframe thead th {\n",
       "        text-align: right;\n",
       "    }\n",
       "</style>\n",
       "<table border=\"1\" class=\"dataframe\">\n",
       "  <thead>\n",
       "    <tr style=\"text-align: right;\">\n",
       "      <th></th>\n",
       "      <th>spread1</th>\n",
       "      <th>MDVP:APQ</th>\n",
       "      <th>PPE</th>\n",
       "      <th>MDVP:Shimmer</th>\n",
       "      <th>MDVP:Shimmer(dB)</th>\n",
       "    </tr>\n",
       "  </thead>\n",
       "  <tbody>\n",
       "    <tr>\n",
       "      <th>177</th>\n",
       "      <td>0.267253</td>\n",
       "      <td>0.181820</td>\n",
       "      <td>0.441729</td>\n",
       "      <td>0.171007</td>\n",
       "      <td>0.161286</td>\n",
       "    </tr>\n",
       "    <tr>\n",
       "      <th>63</th>\n",
       "      <td>0.130061</td>\n",
       "      <td>0.167479</td>\n",
       "      <td>0.300202</td>\n",
       "      <td>0.215594</td>\n",
       "      <td>0.195706</td>\n",
       "    </tr>\n",
       "    <tr>\n",
       "      <th>135</th>\n",
       "      <td>0.475753</td>\n",
       "      <td>0.517667</td>\n",
       "      <td>0.661282</td>\n",
       "      <td>0.580313</td>\n",
       "      <td>0.547776</td>\n",
       "    </tr>\n",
       "    <tr>\n",
       "      <th>128</th>\n",
       "      <td>0.194354</td>\n",
       "      <td>0.040775</td>\n",
       "      <td>0.376183</td>\n",
       "      <td>0.031517</td>\n",
       "      <td>0.052149</td>\n",
       "    </tr>\n",
       "    <tr>\n",
       "      <th>112</th>\n",
       "      <td>0.558430</td>\n",
       "      <td>0.304500</td>\n",
       "      <td>0.726335</td>\n",
       "      <td>0.361823</td>\n",
       "      <td>0.331423</td>\n",
       "    </tr>\n",
       "  </tbody>\n",
       "</table>\n",
       "</div>"
      ],
      "text/plain": [
       "      spread1  MDVP:APQ       PPE  MDVP:Shimmer  MDVP:Shimmer(dB)\n",
       "177  0.267253  0.181820  0.441729      0.171007          0.161286\n",
       "63   0.130061  0.167479  0.300202      0.215594          0.195706\n",
       "135  0.475753  0.517667  0.661282      0.580313          0.547776\n",
       "128  0.194354  0.040775  0.376183      0.031517          0.052149\n",
       "112  0.558430  0.304500  0.726335      0.361823          0.331423"
      ]
     },
     "execution_count": 67,
     "metadata": {},
     "output_type": "execute_result"
    }
   ],
   "source": [
    "train_x.head()"
   ]
  },
  {
   "cell_type": "code",
   "execution_count": 64,
   "metadata": {
    "ExecuteTime": {
     "end_time": "2020-09-03T06:25:27.286426Z",
     "start_time": "2020-09-03T06:25:27.280447Z"
    }
   },
   "outputs": [],
   "source": [
    "def predict(spread1,MDVP_APQ,PPE,MDVP_Shimmer,MDVP_ShimmerDB):\n",
    "    x1 = np.zeros(len(x.columns))\n",
    "    x1[0]=spread1\n",
    "    x1[1]=MDVP_APQ\n",
    "    x1[2]=PPE\n",
    "    x1[3]=MDVP_Shimmer\n",
    "    x1[4]=MDVP_ShimmerDB\n",
    "\n",
    "    return eclf.predict([x1])[0]"
   ]
  },
  {
   "cell_type": "code",
   "execution_count": 68,
   "metadata": {
    "ExecuteTime": {
     "end_time": "2020-09-03T06:26:30.536813Z",
     "start_time": "2020-09-03T06:26:30.520826Z"
    }
   },
   "outputs": [
    {
     "data": {
      "text/plain": [
       "0"
      ]
     },
     "execution_count": 68,
     "metadata": {},
     "output_type": "execute_result"
    }
   ],
   "source": [
    "predict(0.130061,0.167479,0.300202,0.215594,0.195706)"
   ]
  },
  {
   "cell_type": "code",
   "execution_count": 69,
   "metadata": {
    "ExecuteTime": {
     "end_time": "2020-09-03T06:26:39.325866Z",
     "start_time": "2020-09-03T06:26:39.318917Z"
    }
   },
   "outputs": [
    {
     "data": {
      "text/plain": [
       "177    1\n",
       "63     0\n",
       "135    1\n",
       "128    1\n",
       "112    1\n",
       "Name: status, dtype: int64"
      ]
     },
     "execution_count": 69,
     "metadata": {},
     "output_type": "execute_result"
    }
   ],
   "source": [
    "train_y.head()"
   ]
  },
  {
   "cell_type": "markdown",
   "metadata": {},
   "source": [
    "We choosed the second row as parameter and we got exact prediction"
   ]
  },
  {
   "cell_type": "code",
   "execution_count": 76,
   "metadata": {
    "ExecuteTime": {
     "end_time": "2020-09-03T06:33:29.016904Z",
     "start_time": "2020-09-03T06:33:29.006937Z"
    }
   },
   "outputs": [
    {
     "data": {
      "text/html": [
       "<div>\n",
       "<style scoped>\n",
       "    .dataframe tbody tr th:only-of-type {\n",
       "        vertical-align: middle;\n",
       "    }\n",
       "\n",
       "    .dataframe tbody tr th {\n",
       "        vertical-align: top;\n",
       "    }\n",
       "\n",
       "    .dataframe thead th {\n",
       "        text-align: right;\n",
       "    }\n",
       "</style>\n",
       "<table border=\"1\" class=\"dataframe\">\n",
       "  <thead>\n",
       "    <tr style=\"text-align: right;\">\n",
       "      <th></th>\n",
       "      <th>spread1</th>\n",
       "      <th>MDVP:APQ</th>\n",
       "      <th>PPE</th>\n",
       "      <th>MDVP:Shimmer</th>\n",
       "      <th>MDVP:Shimmer(dB)</th>\n",
       "    </tr>\n",
       "  </thead>\n",
       "  <tbody>\n",
       "    <tr>\n",
       "      <th>24</th>\n",
       "      <td>0.435284</td>\n",
       "      <td>0.248346</td>\n",
       "      <td>0.638767</td>\n",
       "      <td>0.219192</td>\n",
       "      <td>0.240826</td>\n",
       "    </tr>\n",
       "    <tr>\n",
       "      <th>106</th>\n",
       "      <td>0.177869</td>\n",
       "      <td>0.086412</td>\n",
       "      <td>0.353874</td>\n",
       "      <td>0.043231</td>\n",
       "      <td>0.048391</td>\n",
       "    </tr>\n",
       "    <tr>\n",
       "      <th>132</th>\n",
       "      <td>0.457218</td>\n",
       "      <td>0.081634</td>\n",
       "      <td>0.668117</td>\n",
       "      <td>0.091212</td>\n",
       "      <td>0.080904</td>\n",
       "    </tr>\n",
       "    <tr>\n",
       "      <th>62</th>\n",
       "      <td>0.180559</td>\n",
       "      <td>0.173458</td>\n",
       "      <td>0.340087</td>\n",
       "      <td>0.215353</td>\n",
       "      <td>0.195706</td>\n",
       "    </tr>\n",
       "    <tr>\n",
       "      <th>125</th>\n",
       "      <td>0.428626</td>\n",
       "      <td>0.336828</td>\n",
       "      <td>0.651229</td>\n",
       "      <td>0.359149</td>\n",
       "      <td>0.369507</td>\n",
       "    </tr>\n",
       "  </tbody>\n",
       "</table>\n",
       "</div>"
      ],
      "text/plain": [
       "      spread1  MDVP:APQ       PPE  MDVP:Shimmer  MDVP:Shimmer(dB)\n",
       "24   0.435284  0.248346  0.638767      0.219192          0.240826\n",
       "106  0.177869  0.086412  0.353874      0.043231          0.048391\n",
       "132  0.457218  0.081634  0.668117      0.091212          0.080904\n",
       "62   0.180559  0.173458  0.340087      0.215353          0.195706\n",
       "125  0.428626  0.336828  0.651229      0.359149          0.369507"
      ]
     },
     "execution_count": 76,
     "metadata": {},
     "output_type": "execute_result"
    }
   ],
   "source": [
    "test_x.head()"
   ]
  },
  {
   "cell_type": "code",
   "execution_count": 77,
   "metadata": {
    "ExecuteTime": {
     "end_time": "2020-09-03T06:34:09.416325Z",
     "start_time": "2020-09-03T06:34:09.401361Z"
    }
   },
   "outputs": [
    {
     "data": {
      "text/plain": [
       "1"
      ]
     },
     "execution_count": 77,
     "metadata": {},
     "output_type": "execute_result"
    }
   ],
   "source": [
    "predict(0.177869,0.086412,0.353874,0.043231,0.048391)"
   ]
  },
  {
   "cell_type": "code",
   "execution_count": 78,
   "metadata": {
    "ExecuteTime": {
     "end_time": "2020-09-03T06:34:16.712931Z",
     "start_time": "2020-09-03T06:34:16.706942Z"
    }
   },
   "outputs": [
    {
     "data": {
      "text/plain": [
       "24     1\n",
       "106    1\n",
       "132    1\n",
       "62     0\n",
       "125    1\n",
       "Name: status, dtype: int64"
      ]
     },
     "execution_count": 78,
     "metadata": {},
     "output_type": "execute_result"
    }
   ],
   "source": [
    "test_y.head()"
   ]
  },
  {
   "cell_type": "markdown",
   "metadata": {},
   "source": [
    "Hence we got accuracte result for test set also."
   ]
  },
  {
   "cell_type": "markdown",
   "metadata": {},
   "source": [
    "### Saving Model using pickle "
   ]
  },
  {
   "cell_type": "code",
   "execution_count": 79,
   "metadata": {
    "ExecuteTime": {
     "end_time": "2020-09-03T06:36:48.475895Z",
     "start_time": "2020-09-03T06:36:46.704041Z"
    }
   },
   "outputs": [],
   "source": [
    "import pickle\n",
    "with open(\"parkinsons_model.pickle\",\"wb\") as f:\n",
    "    pickle.dump(eclf,f)\n",
    "    "
   ]
  },
  {
   "cell_type": "code",
   "execution_count": 80,
   "metadata": {
    "ExecuteTime": {
     "end_time": "2020-09-03T06:36:56.693386Z",
     "start_time": "2020-09-03T06:36:56.689423Z"
    }
   },
   "outputs": [],
   "source": [
    "col = x.columns"
   ]
  },
  {
   "cell_type": "code",
   "execution_count": 81,
   "metadata": {
    "ExecuteTime": {
     "end_time": "2020-09-03T06:37:41.746064Z",
     "start_time": "2020-09-03T06:37:41.741092Z"
    }
   },
   "outputs": [],
   "source": [
    "import json\n",
    "columns = {\n",
    "    \"data_columns\":[col.lower() for col in col]\n",
    "}\n",
    "with open(\"columns.json\",'w') as f:\n",
    "    f.write(json.dumps(columns))"
   ]
  },
  {
   "cell_type": "code",
   "execution_count": null,
   "metadata": {},
   "outputs": [],
   "source": []
  }
 ],
 "metadata": {
  "kernelspec": {
   "display_name": "Python 3",
   "language": "python",
   "name": "python3"
  },
  "language_info": {
   "codemirror_mode": {
    "name": "ipython",
    "version": 3
   },
   "file_extension": ".py",
   "mimetype": "text/x-python",
   "name": "python",
   "nbconvert_exporter": "python",
   "pygments_lexer": "ipython3",
   "version": "3.8.3"
  },
  "varInspector": {
   "cols": {
    "lenName": 16,
    "lenType": 16,
    "lenVar": 40
   },
   "kernels_config": {
    "python": {
     "delete_cmd_postfix": "",
     "delete_cmd_prefix": "del ",
     "library": "var_list.py",
     "varRefreshCmd": "print(var_dic_list())"
    },
    "r": {
     "delete_cmd_postfix": ") ",
     "delete_cmd_prefix": "rm(",
     "library": "var_list.r",
     "varRefreshCmd": "cat(var_dic_list()) "
    }
   },
   "types_to_exclude": [
    "module",
    "function",
    "builtin_function_or_method",
    "instance",
    "_Feature"
   ],
   "window_display": false
  }
 },
 "nbformat": 4,
 "nbformat_minor": 4
}
