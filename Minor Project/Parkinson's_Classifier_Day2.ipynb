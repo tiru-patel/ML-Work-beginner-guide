{
 "cells": [
  {
   "cell_type": "markdown",
   "metadata": {},
   "source": [
    "### Importing modules"
   ]
  },
  {
   "cell_type": "code",
   "execution_count": 1,
   "metadata": {
    "ExecuteTime": {
     "end_time": "2020-09-02T04:59:49.803388Z",
     "start_time": "2020-09-02T04:59:45.992597Z"
    }
   },
   "outputs": [],
   "source": [
    "import pandas as pd \n",
    "import numpy as np\n",
    "import matplotlib.pyplot as plt \n",
    "%matplotlib inline\n",
    "import os\n",
    "os.chdir(\"D:\\\\Technocolabs Machine Learning Internship\\\\Minor Project\\\\Dataset\")\n",
    "from sklearn.preprocessing import StandardScaler\n",
    "from sklearn.model_selection import train_test_split as tts\n",
    "import xgboost as xgb \n",
    "from sklearn.metrics import accuracy_score"
   ]
  },
  {
   "cell_type": "markdown",
   "metadata": {},
   "source": [
    "### Univariate Analysis of Features "
   ]
  },
  {
   "cell_type": "code",
   "execution_count": 2,
   "metadata": {
    "ExecuteTime": {
     "end_time": "2020-09-02T04:59:49.877152Z",
     "start_time": "2020-09-02T04:59:49.803388Z"
    }
   },
   "outputs": [
    {
     "data": {
      "text/html": [
       "<div>\n",
       "<style scoped>\n",
       "    .dataframe tbody tr th:only-of-type {\n",
       "        vertical-align: middle;\n",
       "    }\n",
       "\n",
       "    .dataframe tbody tr th {\n",
       "        vertical-align: top;\n",
       "    }\n",
       "\n",
       "    .dataframe thead th {\n",
       "        text-align: right;\n",
       "    }\n",
       "</style>\n",
       "<table border=\"1\" class=\"dataframe\">\n",
       "  <thead>\n",
       "    <tr style=\"text-align: right;\">\n",
       "      <th></th>\n",
       "      <th>name</th>\n",
       "      <th>MDVP:Jitter(%)</th>\n",
       "      <th>MDVP:Jitter(Abs)</th>\n",
       "      <th>MDVP:RAP</th>\n",
       "      <th>MDVP:PPQ</th>\n",
       "      <th>Jitter:DDP</th>\n",
       "      <th>MDVP:Shimmer</th>\n",
       "      <th>MDVP:Shimmer(dB)</th>\n",
       "      <th>Shimmer:APQ3</th>\n",
       "      <th>Shimmer:APQ5</th>\n",
       "      <th>MDVP:APQ</th>\n",
       "      <th>Shimmer:DDA</th>\n",
       "      <th>status</th>\n",
       "      <th>RPDE</th>\n",
       "      <th>spread1</th>\n",
       "      <th>spread2</th>\n",
       "      <th>D2</th>\n",
       "      <th>PPE</th>\n",
       "    </tr>\n",
       "  </thead>\n",
       "  <tbody>\n",
       "    <tr>\n",
       "      <th>0</th>\n",
       "      <td>phon_R01_S01_1</td>\n",
       "      <td>0.00784</td>\n",
       "      <td>0.00007</td>\n",
       "      <td>0.00370</td>\n",
       "      <td>0.00554</td>\n",
       "      <td>0.01109</td>\n",
       "      <td>0.04374</td>\n",
       "      <td>0.426</td>\n",
       "      <td>0.02182</td>\n",
       "      <td>0.03130</td>\n",
       "      <td>0.02971</td>\n",
       "      <td>0.06545</td>\n",
       "      <td>1</td>\n",
       "      <td>0.414783</td>\n",
       "      <td>-4.813031</td>\n",
       "      <td>0.266482</td>\n",
       "      <td>2.301442</td>\n",
       "      <td>0.284654</td>\n",
       "    </tr>\n",
       "    <tr>\n",
       "      <th>1</th>\n",
       "      <td>phon_R01_S01_2</td>\n",
       "      <td>0.00968</td>\n",
       "      <td>0.00008</td>\n",
       "      <td>0.00465</td>\n",
       "      <td>0.00696</td>\n",
       "      <td>0.01394</td>\n",
       "      <td>0.06134</td>\n",
       "      <td>0.626</td>\n",
       "      <td>0.03134</td>\n",
       "      <td>0.04518</td>\n",
       "      <td>0.04368</td>\n",
       "      <td>0.09403</td>\n",
       "      <td>1</td>\n",
       "      <td>0.458359</td>\n",
       "      <td>-4.075192</td>\n",
       "      <td>0.335590</td>\n",
       "      <td>2.486855</td>\n",
       "      <td>0.368674</td>\n",
       "    </tr>\n",
       "    <tr>\n",
       "      <th>2</th>\n",
       "      <td>phon_R01_S01_3</td>\n",
       "      <td>0.01050</td>\n",
       "      <td>0.00009</td>\n",
       "      <td>0.00544</td>\n",
       "      <td>0.00781</td>\n",
       "      <td>0.01633</td>\n",
       "      <td>0.05233</td>\n",
       "      <td>0.482</td>\n",
       "      <td>0.02757</td>\n",
       "      <td>0.03858</td>\n",
       "      <td>0.03590</td>\n",
       "      <td>0.08270</td>\n",
       "      <td>1</td>\n",
       "      <td>0.429895</td>\n",
       "      <td>-4.443179</td>\n",
       "      <td>0.311173</td>\n",
       "      <td>2.342259</td>\n",
       "      <td>0.332634</td>\n",
       "    </tr>\n",
       "    <tr>\n",
       "      <th>3</th>\n",
       "      <td>phon_R01_S01_4</td>\n",
       "      <td>0.00997</td>\n",
       "      <td>0.00009</td>\n",
       "      <td>0.00502</td>\n",
       "      <td>0.00698</td>\n",
       "      <td>0.01505</td>\n",
       "      <td>0.05492</td>\n",
       "      <td>0.517</td>\n",
       "      <td>0.02924</td>\n",
       "      <td>0.04005</td>\n",
       "      <td>0.03772</td>\n",
       "      <td>0.08771</td>\n",
       "      <td>1</td>\n",
       "      <td>0.434969</td>\n",
       "      <td>-4.117501</td>\n",
       "      <td>0.334147</td>\n",
       "      <td>2.405554</td>\n",
       "      <td>0.368975</td>\n",
       "    </tr>\n",
       "    <tr>\n",
       "      <th>4</th>\n",
       "      <td>phon_R01_S01_5</td>\n",
       "      <td>0.01284</td>\n",
       "      <td>0.00011</td>\n",
       "      <td>0.00655</td>\n",
       "      <td>0.00908</td>\n",
       "      <td>0.01966</td>\n",
       "      <td>0.06425</td>\n",
       "      <td>0.584</td>\n",
       "      <td>0.03490</td>\n",
       "      <td>0.04825</td>\n",
       "      <td>0.04465</td>\n",
       "      <td>0.10470</td>\n",
       "      <td>1</td>\n",
       "      <td>0.417356</td>\n",
       "      <td>-3.747787</td>\n",
       "      <td>0.234513</td>\n",
       "      <td>2.332180</td>\n",
       "      <td>0.410335</td>\n",
       "    </tr>\n",
       "  </tbody>\n",
       "</table>\n",
       "</div>"
      ],
      "text/plain": [
       "             name  MDVP:Jitter(%)  MDVP:Jitter(Abs)  MDVP:RAP  MDVP:PPQ  \\\n",
       "0  phon_R01_S01_1         0.00784           0.00007   0.00370   0.00554   \n",
       "1  phon_R01_S01_2         0.00968           0.00008   0.00465   0.00696   \n",
       "2  phon_R01_S01_3         0.01050           0.00009   0.00544   0.00781   \n",
       "3  phon_R01_S01_4         0.00997           0.00009   0.00502   0.00698   \n",
       "4  phon_R01_S01_5         0.01284           0.00011   0.00655   0.00908   \n",
       "\n",
       "   Jitter:DDP  MDVP:Shimmer  MDVP:Shimmer(dB)  Shimmer:APQ3  Shimmer:APQ5  \\\n",
       "0     0.01109       0.04374             0.426       0.02182       0.03130   \n",
       "1     0.01394       0.06134             0.626       0.03134       0.04518   \n",
       "2     0.01633       0.05233             0.482       0.02757       0.03858   \n",
       "3     0.01505       0.05492             0.517       0.02924       0.04005   \n",
       "4     0.01966       0.06425             0.584       0.03490       0.04825   \n",
       "\n",
       "   MDVP:APQ  Shimmer:DDA  status      RPDE   spread1   spread2        D2  \\\n",
       "0   0.02971      0.06545       1  0.414783 -4.813031  0.266482  2.301442   \n",
       "1   0.04368      0.09403       1  0.458359 -4.075192  0.335590  2.486855   \n",
       "2   0.03590      0.08270       1  0.429895 -4.443179  0.311173  2.342259   \n",
       "3   0.03772      0.08771       1  0.434969 -4.117501  0.334147  2.405554   \n",
       "4   0.04465      0.10470       1  0.417356 -3.747787  0.234513  2.332180   \n",
       "\n",
       "        PPE  \n",
       "0  0.284654  \n",
       "1  0.368674  \n",
       "2  0.332634  \n",
       "3  0.368975  \n",
       "4  0.410335  "
      ]
     },
     "execution_count": 2,
     "metadata": {},
     "output_type": "execute_result"
    }
   ],
   "source": [
    "df = pd.read_csv(\"featureddata.csv\")\n",
    "df.head()"
   ]
  },
  {
   "cell_type": "code",
   "execution_count": 3,
   "metadata": {
    "ExecuteTime": {
     "end_time": "2020-09-02T04:59:50.222485Z",
     "start_time": "2020-09-02T04:59:49.877152Z"
    }
   },
   "outputs": [
    {
     "data": {
      "text/plain": [
       "<matplotlib.axes._subplots.AxesSubplot at 0x2357f50d100>"
      ]
     },
     "execution_count": 3,
     "metadata": {},
     "output_type": "execute_result"
    },
    {
     "data": {
      "image/png": "[encoded data removed]",
      "text/plain": [
       "<Figure size 432x288 with 1 Axes>"
      ]
     },
     "metadata": {
      "needs_background": "light"
     },
     "output_type": "display_data"
    }
   ],
   "source": [
    "df[\"MDVP:Jitter(%)\"].plot.hist()"
   ]
  },
  {
   "cell_type": "markdown",
   "metadata": {},
   "source": [
    "Highly Left Skewed Data"
   ]
  },
  {
   "cell_type": "markdown",
   "metadata": {},
   "source": [
    "Applying Log Transformation when the data is left skewed"
   ]
  },
  {
   "cell_type": "code",
   "execution_count": 4,
   "metadata": {
    "ExecuteTime": {
     "end_time": "2020-09-02T04:59:50.239050Z",
     "start_time": "2020-09-02T04:59:50.226092Z"
    }
   },
   "outputs": [],
   "source": [
    "df[\"MDVP:Jitter(%)\"] = df[\"MDVP:Jitter(%)\"].transform(np.log)"
   ]
  },
  {
   "cell_type": "code",
   "execution_count": 5,
   "metadata": {
    "ExecuteTime": {
     "end_time": "2020-09-02T04:59:50.546887Z",
     "start_time": "2020-09-02T04:59:50.241044Z"
    }
   },
   "outputs": [
    {
     "data": {
      "text/plain": [
       "<matplotlib.axes._subplots.AxesSubplot at 0x2357fc617c0>"
      ]
     },
     "execution_count": 5,
     "metadata": {},
     "output_type": "execute_result"
    },
    {
     "data": {
      "image/png": "[encoded data removed]",
      "text/plain": [
       "<Figure size 432x288 with 1 Axes>"
      ]
     },
     "metadata": {
      "needs_background": "light"
     },
     "output_type": "display_data"
    }
   ],
   "source": [
    "df[\"MDVP:Jitter(%)\"].plot.hist()"
   ]
  },
  {
   "cell_type": "markdown",
   "metadata": {},
   "source": [
    "Now it is transformed and looks like normal distribution"
   ]
  },
  {
   "cell_type": "code",
   "execution_count": 6,
   "metadata": {
    "ExecuteTime": {
     "end_time": "2020-09-02T04:59:50.855001Z",
     "start_time": "2020-09-02T04:59:50.550707Z"
    }
   },
   "outputs": [
    {
     "data": {
      "text/plain": [
       "<matplotlib.axes._subplots.AxesSubplot at 0x2357fce66a0>"
      ]
     },
     "execution_count": 6,
     "metadata": {},
     "output_type": "execute_result"
    },
    {
     "data": {
      "image/png": "[encoded data removed]",
      "text/plain": [
       "<Figure size 432x288 with 1 Axes>"
      ]
     },
     "metadata": {
      "needs_background": "light"
     },
     "output_type": "display_data"
    }
   ],
   "source": [
    "df[\"MDVP:Jitter(Abs)\"].plot.hist ()"
   ]
  },
  {
   "cell_type": "code",
   "execution_count": 7,
   "metadata": {
    "ExecuteTime": {
     "end_time": "2020-09-02T04:59:51.271208Z",
     "start_time": "2020-09-02T04:59:50.864263Z"
    }
   },
   "outputs": [
    {
     "data": {
      "text/plain": [
       "<matplotlib.axes._subplots.AxesSubplot at 0x2357fd53820>"
      ]
     },
     "execution_count": 7,
     "metadata": {},
     "output_type": "execute_result"
    },
    {
     "data": {
      "image/png": "[encoded data removed]",
      "text/plain": [
       "<Figure size 432x288 with 1 Axes>"
      ]
     },
     "metadata": {
      "needs_background": "light"
     },
     "output_type": "display_data"
    }
   ],
   "source": [
    "df[\"MDVP:Jitter(Abs)\"]=df[\"MDVP:Jitter(Abs)\"].transform(np.log)\n",
    "df[\"MDVP:Jitter(Abs)\"].plot.hist ()"
   ]
  },
  {
   "cell_type": "markdown",
   "metadata": {},
   "source": [
    "Now it is somewhat uniform than earlier "
   ]
  },
  {
   "cell_type": "code",
   "execution_count": 8,
   "metadata": {
    "ExecuteTime": {
     "end_time": "2020-09-02T04:59:51.586448Z",
     "start_time": "2020-09-02T04:59:51.276782Z"
    }
   },
   "outputs": [
    {
     "data": {
      "text/plain": [
       "<matplotlib.axes._subplots.AxesSubplot at 0x2357fdc0160>"
      ]
     },
     "execution_count": 8,
     "metadata": {},
     "output_type": "execute_result"
    },
    {
     "data": {
      "image/png": "[encoded data removed]",
      "text/plain": [
       "<Figure size 432x288 with 1 Axes>"
      ]
     },
     "metadata": {
      "needs_background": "light"
     },
     "output_type": "display_data"
    }
   ],
   "source": [
    "df[\"MDVP:RAP\"].plot.hist()"
   ]
  },
  {
   "cell_type": "code",
   "execution_count": 9,
   "metadata": {
    "ExecuteTime": {
     "end_time": "2020-09-02T04:59:51.933276Z",
     "start_time": "2020-09-02T04:59:51.590910Z"
    }
   },
   "outputs": [
    {
     "data": {
      "text/plain": [
       "<matplotlib.axes._subplots.AxesSubplot at 0x2357fe27d00>"
      ]
     },
     "execution_count": 9,
     "metadata": {},
     "output_type": "execute_result"
    },
    {
     "data": {
      "image/png": "[encoded data removed]",
      "text/plain": [
       "<Figure size 432x288 with 1 Axes>"
      ]
     },
     "metadata": {
      "needs_background": "light"
     },
     "output_type": "display_data"
    }
   ],
   "source": [
    "df[\"MDVP:PPQ\"].plot.hist()"
   ]
  },
  {
   "cell_type": "code",
   "execution_count": 10,
   "metadata": {
    "ExecuteTime": {
     "end_time": "2020-09-02T04:59:52.265914Z",
     "start_time": "2020-09-02T04:59:51.936882Z"
    }
   },
   "outputs": [
    {
     "data": {
      "text/plain": [
       "<matplotlib.axes._subplots.AxesSubplot at 0x2357fe27370>"
      ]
     },
     "execution_count": 10,
     "metadata": {},
     "output_type": "execute_result"
    },
    {
     "data": {
      "image/png": "[encoded data removed]",
      "text/plain": [
       "<Figure size 432x288 with 1 Axes>"
      ]
     },
     "metadata": {
      "needs_background": "light"
     },
     "output_type": "display_data"
    }
   ],
   "source": [
    "df[\"Jitter:DDP\"].plot.hist()"
   ]
  },
  {
   "cell_type": "code",
   "execution_count": 11,
   "metadata": {
    "ExecuteTime": {
     "end_time": "2020-09-02T04:59:52.590722Z",
     "start_time": "2020-09-02T04:59:52.269706Z"
    }
   },
   "outputs": [
    {
     "data": {
      "text/plain": [
       "<matplotlib.axes._subplots.AxesSubplot at 0x2357ff00df0>"
      ]
     },
     "execution_count": 11,
     "metadata": {},
     "output_type": "execute_result"
    },
    {
     "data": {
      "image/png": "[encoded data removed]",
      "text/plain": [
       "<Figure size 432x288 with 1 Axes>"
      ]
     },
     "metadata": {
      "needs_background": "light"
     },
     "output_type": "display_data"
    }
   ],
   "source": [
    "df[\"MDVP:Shimmer\"].plot.hist()"
   ]
  },
  {
   "cell_type": "code",
   "execution_count": 12,
   "metadata": {
    "ExecuteTime": {
     "end_time": "2020-09-02T04:59:52.892952Z",
     "start_time": "2020-09-02T04:59:52.593465Z"
    }
   },
   "outputs": [
    {
     "data": {
      "text/plain": [
       "<matplotlib.axes._subplots.AxesSubplot at 0x2357ff6f940>"
      ]
     },
     "execution_count": 12,
     "metadata": {},
     "output_type": "execute_result"
    },
    {
     "data": {
      "image/png": "[encoded data removed]",
      "text/plain": [
       "<Figure size 432x288 with 1 Axes>"
      ]
     },
     "metadata": {
      "needs_background": "light"
     },
     "output_type": "display_data"
    }
   ],
   "source": [
    "df[\"MDVP:Shimmer(dB)\"].plot.hist()"
   ]
  },
  {
   "cell_type": "code",
   "execution_count": 13,
   "metadata": {
    "ExecuteTime": {
     "end_time": "2020-09-02T04:59:53.202729Z",
     "start_time": "2020-09-02T04:59:52.895328Z"
    }
   },
   "outputs": [
    {
     "data": {
      "text/plain": [
       "<matplotlib.axes._subplots.AxesSubplot at 0x23500fdfd00>"
      ]
     },
     "execution_count": 13,
     "metadata": {},
     "output_type": "execute_result"
    },
    {
     "data": {
      "image/png": "[encoded data removed]",
      "text/plain": [
       "<Figure size 432x288 with 1 Axes>"
      ]
     },
     "metadata": {
      "needs_background": "light"
     },
     "output_type": "display_data"
    }
   ],
   "source": [
    "df[\"Shimmer:APQ3\"].plot.hist()"
   ]
  },
  {
   "cell_type": "code",
   "execution_count": 14,
   "metadata": {
    "ExecuteTime": {
     "end_time": "2020-09-02T04:59:53.525443Z",
     "start_time": "2020-09-02T04:59:53.203726Z"
    }
   },
   "outputs": [
    {
     "data": {
      "text/plain": [
       "<matplotlib.axes._subplots.AxesSubplot at 0x23501043550>"
      ]
     },
     "execution_count": 14,
     "metadata": {},
     "output_type": "execute_result"
    },
    {
     "data": {
      "image/png": "[encoded data removed]",
      "text/plain": [
       "<Figure size 432x288 with 1 Axes>"
      ]
     },
     "metadata": {
      "needs_background": "light"
     },
     "output_type": "display_data"
    }
   ],
   "source": [
    "df[\"Shimmer:APQ5\"].plot.hist()"
   ]
  },
  {
   "cell_type": "code",
   "execution_count": 15,
   "metadata": {
    "ExecuteTime": {
     "end_time": "2020-09-02T04:59:53.845571Z",
     "start_time": "2020-09-02T04:59:53.529426Z"
    }
   },
   "outputs": [
    {
     "data": {
      "text/plain": [
       "<matplotlib.axes._subplots.AxesSubplot at 0x235010b39d0>"
      ]
     },
     "execution_count": 15,
     "metadata": {},
     "output_type": "execute_result"
    },
    {
     "data": {
      "image/png": "[encoded data removed]",
      "text/plain": [
       "<Figure size 432x288 with 1 Axes>"
      ]
     },
     "metadata": {
      "needs_background": "light"
     },
     "output_type": "display_data"
    }
   ],
   "source": [
    "df[\"Shimmer:DDA\"].plot.hist()"
   ]
  },
  {
   "cell_type": "code",
   "execution_count": 16,
   "metadata": {
    "ExecuteTime": {
     "end_time": "2020-09-02T04:59:54.164295Z",
     "start_time": "2020-09-02T04:59:53.849068Z"
    }
   },
   "outputs": [
    {
     "data": {
      "text/plain": [
       "<matplotlib.axes._subplots.AxesSubplot at 0x23501129460>"
      ]
     },
     "execution_count": 16,
     "metadata": {},
     "output_type": "execute_result"
    },
    {
     "data": {
      "image/png": "[encoded data removed]",
      "text/plain": [
       "<Figure size 432x288 with 1 Axes>"
      ]
     },
     "metadata": {
      "needs_background": "light"
     },
     "output_type": "display_data"
    }
   ],
   "source": [
    "df[\"MDVP:APQ\"].plot.hist()"
   ]
  },
  {
   "cell_type": "markdown",
   "metadata": {},
   "source": [
    "#### Transforming above features to form uniform distribution"
   ]
  },
  {
   "cell_type": "code",
   "execution_count": 17,
   "metadata": {
    "ExecuteTime": {
     "end_time": "2020-09-02T04:59:54.188627Z",
     "start_time": "2020-09-02T04:59:54.168199Z"
    }
   },
   "outputs": [],
   "source": [
    "df[\"MDVP:RAP\"]=df[\"MDVP:RAP\"].transform(np.log)\n",
    "df[\"MDVP:PPQ\"]=df[\"MDVP:PPQ\"].transform(np.log)\n",
    "df[\"Jitter:DDP\"] = df[\"Jitter:DDP\"].transform(np.log)\n",
    "df[\"MDVP:Shimmer\"] = df[\"MDVP:Shimmer\"].transform(np.log)\n",
    "df[\"MDVP:Shimmer(dB)\"] = df[\"MDVP:Shimmer(dB)\"].transform(np.log)\n",
    "df[\"Shimmer:APQ3\"] = df[\"Shimmer:APQ3\"].transform(np.log)\n",
    "df[\"Shimmer:APQ5\"] = df[\"Shimmer:APQ5\"].transform(np.log)"
   ]
  },
  {
   "cell_type": "code",
   "execution_count": 18,
   "metadata": {
    "ExecuteTime": {
     "end_time": "2020-09-02T04:59:54.214088Z",
     "start_time": "2020-09-02T04:59:54.192595Z"
    }
   },
   "outputs": [],
   "source": [
    "df[\"Shimmer:DDA\"] = df[\"Shimmer:DDA\"].transform(np.log)\n",
    "df[\"MDVP:APQ\"] = df[\"MDVP:APQ\"].transform(np.log)"
   ]
  },
  {
   "cell_type": "code",
   "execution_count": 19,
   "metadata": {
    "ExecuteTime": {
     "end_time": "2020-09-02T04:59:54.538926Z",
     "start_time": "2020-09-02T04:59:54.217989Z"
    }
   },
   "outputs": [
    {
     "data": {
      "text/plain": [
       "<matplotlib.axes._subplots.AxesSubplot at 0x23501192970>"
      ]
     },
     "execution_count": 19,
     "metadata": {},
     "output_type": "execute_result"
    },
    {
     "data": {
      "image/png": "[encoded data removed]",
      "text/plain": [
       "<Figure size 432x288 with 1 Axes>"
      ]
     },
     "metadata": {
      "needs_background": "light"
     },
     "output_type": "display_data"
    }
   ],
   "source": [
    "df[\"MDVP:RAP\"].plot.hist()"
   ]
  },
  {
   "cell_type": "code",
   "execution_count": 20,
   "metadata": {
    "ExecuteTime": {
     "end_time": "2020-09-02T04:59:54.870909Z",
     "start_time": "2020-09-02T04:59:54.542777Z"
    }
   },
   "outputs": [
    {
     "data": {
      "text/plain": [
       "<matplotlib.axes._subplots.AxesSubplot at 0x235011fd850>"
      ]
     },
     "execution_count": 20,
     "metadata": {},
     "output_type": "execute_result"
    },
    {
     "data": {
      "image/png": "[encoded data removed]",
      "text/plain": [
       "<Figure size 432x288 with 1 Axes>"
      ]
     },
     "metadata": {
      "needs_background": "light"
     },
     "output_type": "display_data"
    }
   ],
   "source": [
    "df[\"MDVP:PPQ\"].plot.hist()"
   ]
  },
  {
   "cell_type": "code",
   "execution_count": 21,
   "metadata": {
    "ExecuteTime": {
     "end_time": "2020-09-02T04:59:55.190283Z",
     "start_time": "2020-09-02T04:59:54.874608Z"
    }
   },
   "outputs": [
    {
     "data": {
      "text/plain": [
       "<matplotlib.axes._subplots.AxesSubplot at 0x23501279610>"
      ]
     },
     "execution_count": 21,
     "metadata": {},
     "output_type": "execute_result"
    },
    {
     "data": {
      "image/png": "[encoded data removed]",
      "text/plain": [
       "<Figure size 432x288 with 1 Axes>"
      ]
     },
     "metadata": {
      "needs_background": "light"
     },
     "output_type": "display_data"
    }
   ],
   "source": [
    "df[\"Jitter:DDP\"].plot.hist()"
   ]
  },
  {
   "cell_type": "code",
   "execution_count": 22,
   "metadata": {
    "ExecuteTime": {
     "end_time": "2020-09-02T04:59:55.595545Z",
     "start_time": "2020-09-02T04:59:55.192319Z"
    }
   },
   "outputs": [
    {
     "data": {
      "text/plain": [
       "<matplotlib.axes._subplots.AxesSubplot at 0x235012dea90>"
      ]
     },
     "execution_count": 22,
     "metadata": {},
     "output_type": "execute_result"
    },
    {
     "data": {
      "image/png": "[encoded data removed]",
      "text/plain": [
       "<Figure size 432x288 with 1 Axes>"
      ]
     },
     "metadata": {
      "needs_background": "light"
     },
     "output_type": "display_data"
    }
   ],
   "source": [
    "df[\"MDVP:Shimmer\"].plot.hist()"
   ]
  },
  {
   "cell_type": "code",
   "execution_count": 23,
   "metadata": {
    "ExecuteTime": {
     "end_time": "2020-09-02T04:59:55.921307Z",
     "start_time": "2020-09-02T04:59:55.598821Z"
    }
   },
   "outputs": [
    {
     "data": {
      "text/plain": [
       "<matplotlib.axes._subplots.AxesSubplot at 0x235011cc520>"
      ]
     },
     "execution_count": 23,
     "metadata": {},
     "output_type": "execute_result"
    },
    {
     "data": {
      "image/png": "[encoded data removed]",
      "text/plain": [
       "<Figure size 432x288 with 1 Axes>"
      ]
     },
     "metadata": {
      "needs_background": "light"
     },
     "output_type": "display_data"
    }
   ],
   "source": [
    "df[\"MDVP:Shimmer(dB)\"].plot.hist()"
   ]
  },
  {
   "cell_type": "code",
   "execution_count": 24,
   "metadata": {
    "ExecuteTime": {
     "end_time": "2020-09-02T04:59:56.248135Z",
     "start_time": "2020-09-02T04:59:55.924278Z"
    }
   },
   "outputs": [
    {
     "data": {
      "text/plain": [
       "<matplotlib.axes._subplots.AxesSubplot at 0x235012029a0>"
      ]
     },
     "execution_count": 24,
     "metadata": {},
     "output_type": "execute_result"
    },
    {
     "data": {
      "image/png": "[encoded data removed]",
      "text/plain": [
       "<Figure size 432x288 with 1 Axes>"
      ]
     },
     "metadata": {
      "needs_background": "light"
     },
     "output_type": "display_data"
    }
   ],
   "source": [
    "df[\"Shimmer:APQ3\"].plot.hist()"
   ]
  },
  {
   "cell_type": "code",
   "execution_count": 25,
   "metadata": {
    "ExecuteTime": {
     "end_time": "2020-09-02T04:59:56.581719Z",
     "start_time": "2020-09-02T04:59:56.256817Z"
    }
   },
   "outputs": [
    {
     "data": {
      "text/plain": [
       "<matplotlib.axes._subplots.AxesSubplot at 0x2357fc71b20>"
      ]
     },
     "execution_count": 25,
     "metadata": {},
     "output_type": "execute_result"
    },
    {
     "data": {
      "image/png": "[encoded data removed]",
      "text/plain": [
       "<Figure size 432x288 with 1 Axes>"
      ]
     },
     "metadata": {
      "needs_background": "light"
     },
     "output_type": "display_data"
    }
   ],
   "source": [
    "df[\"Shimmer:APQ5\"].plot.hist()"
   ]
  },
  {
   "cell_type": "code",
   "execution_count": 26,
   "metadata": {
    "ExecuteTime": {
     "end_time": "2020-09-02T04:59:56.907817Z",
     "start_time": "2020-09-02T04:59:56.589335Z"
    }
   },
   "outputs": [
    {
     "data": {
      "text/plain": [
       "<matplotlib.axes._subplots.AxesSubplot at 0x235014757f0>"
      ]
     },
     "execution_count": 26,
     "metadata": {},
     "output_type": "execute_result"
    },
    {
     "data": {
      "image/png": "[encoded data removed]",
      "text/plain": [
       "<Figure size 432x288 with 1 Axes>"
      ]
     },
     "metadata": {
      "needs_background": "light"
     },
     "output_type": "display_data"
    }
   ],
   "source": [
    "df[\"Shimmer:DDA\"].plot.hist()"
   ]
  },
  {
   "cell_type": "code",
   "execution_count": 27,
   "metadata": {
    "ExecuteTime": {
     "end_time": "2020-09-02T04:59:57.219202Z",
     "start_time": "2020-09-02T04:59:56.911507Z"
    }
   },
   "outputs": [
    {
     "data": {
      "text/plain": [
       "<matplotlib.axes._subplots.AxesSubplot at 0x235014e1e20>"
      ]
     },
     "execution_count": 27,
     "metadata": {},
     "output_type": "execute_result"
    },
    {
     "data": {
      "image/png": "[encoded data removed]",
      "text/plain": [
       "<Figure size 432x288 with 1 Axes>"
      ]
     },
     "metadata": {
      "needs_background": "light"
     },
     "output_type": "display_data"
    }
   ],
   "source": [
    "df[\"MDVP:APQ\"].plot.hist()"
   ]
  },
  {
   "cell_type": "code",
   "execution_count": 28,
   "metadata": {
    "ExecuteTime": {
     "end_time": "2020-09-02T04:59:57.533258Z",
     "start_time": "2020-09-02T04:59:57.222931Z"
    }
   },
   "outputs": [
    {
     "data": {
      "text/plain": [
       "<matplotlib.axes._subplots.AxesSubplot at 0x23501546700>"
      ]
     },
     "execution_count": 28,
     "metadata": {},
     "output_type": "execute_result"
    },
    {
     "data": {
      "image/png": "[encoded data removed]",
      "text/plain": [
       "<Figure size 432x288 with 1 Axes>"
      ]
     },
     "metadata": {
      "needs_background": "light"
     },
     "output_type": "display_data"
    }
   ],
   "source": [
    "df[\"RPDE\"].plot.hist()"
   ]
  },
  {
   "cell_type": "markdown",
   "metadata": {},
   "source": [
    "* No need to transform "
   ]
  },
  {
   "cell_type": "code",
   "execution_count": 29,
   "metadata": {
    "ExecuteTime": {
     "end_time": "2020-09-02T04:59:57.836646Z",
     "start_time": "2020-09-02T04:59:57.535314Z"
    }
   },
   "outputs": [
    {
     "data": {
      "text/plain": [
       "<matplotlib.axes._subplots.AxesSubplot at 0x235015af7c0>"
      ]
     },
     "execution_count": 29,
     "metadata": {},
     "output_type": "execute_result"
    },
    {
     "data": {
      "image/png": "[encoded data removed]",
      "text/plain": [
       "<Figure size 432x288 with 1 Axes>"
      ]
     },
     "metadata": {
      "needs_background": "light"
     },
     "output_type": "display_data"
    }
   ],
   "source": [
    "df[\"spread1\"].plot.hist()"
   ]
  },
  {
   "cell_type": "markdown",
   "metadata": {},
   "source": [
    "- No need to transform, it is more or like a normal distribution curve."
   ]
  },
  {
   "cell_type": "code",
   "execution_count": 30,
   "metadata": {
    "ExecuteTime": {
     "end_time": "2020-09-02T04:59:58.141020Z",
     "start_time": "2020-09-02T04:59:57.841033Z"
    }
   },
   "outputs": [
    {
     "data": {
      "text/plain": [
       "<matplotlib.axes._subplots.AxesSubplot at 0x2350160ea90>"
      ]
     },
     "execution_count": 30,
     "metadata": {},
     "output_type": "execute_result"
    },
    {
     "data": {
      "image/png": "[encoded data removed]",
      "text/plain": [
       "<Figure size 432x288 with 1 Axes>"
      ]
     },
     "metadata": {
      "needs_background": "light"
     },
     "output_type": "display_data"
    }
   ],
   "source": [
    "df[\"D2\"].plot.hist()"
   ]
  },
  {
   "cell_type": "markdown",
   "metadata": {},
   "source": [
    "* This is also a uniform distribution"
   ]
  },
  {
   "cell_type": "code",
   "execution_count": 31,
   "metadata": {
    "ExecuteTime": {
     "end_time": "2020-09-02T04:59:58.424047Z",
     "start_time": "2020-09-02T04:59:58.144720Z"
    }
   },
   "outputs": [
    {
     "data": {
      "text/plain": [
       "<matplotlib.axes._subplots.AxesSubplot at 0x235015a0d90>"
      ]
     },
     "execution_count": 31,
     "metadata": {},
     "output_type": "execute_result"
    },
    {
     "data": {
      "image/png": "[encoded data removed]",
      "text/plain": [
       "<Figure size 432x288 with 1 Axes>"
      ]
     },
     "metadata": {
      "needs_background": "light"
     },
     "output_type": "display_data"
    }
   ],
   "source": [
    "df[\"PPE\"].plot.hist()"
   ]
  },
  {
   "cell_type": "code",
   "execution_count": 32,
   "metadata": {
    "ExecuteTime": {
     "end_time": "2020-09-02T04:59:58.706731Z",
     "start_time": "2020-09-02T04:59:58.427916Z"
    }
   },
   "outputs": [
    {
     "data": {
      "text/plain": [
       "<matplotlib.axes._subplots.AxesSubplot at 0x235016e9280>"
      ]
     },
     "execution_count": 32,
     "metadata": {},
     "output_type": "execute_result"
    },
    {
     "data": {
      "image/png": "[encoded data removed]",
      "text/plain": [
       "<Figure size 432x288 with 1 Axes>"
      ]
     },
     "metadata": {
      "needs_background": "light"
     },
     "output_type": "display_data"
    }
   ],
   "source": [
    "df[\"PPE\"] = df[\"PPE\"].transform(np.log)\n",
    "df[\"PPE\"].plot.hist()"
   ]
  },
  {
   "cell_type": "markdown",
   "metadata": {},
   "source": [
    "### Now that we have a uniform distributed features we can build model using these features "
   ]
  },
  {
   "cell_type": "code",
   "execution_count": 33,
   "metadata": {
    "ExecuteTime": {
     "end_time": "2020-09-02T04:59:58.757760Z",
     "start_time": "2020-09-02T04:59:58.710855Z"
    }
   },
   "outputs": [
    {
     "data": {
      "text/html": [
       "<div>\n",
       "<style scoped>\n",
       "    .dataframe tbody tr th:only-of-type {\n",
       "        vertical-align: middle;\n",
       "    }\n",
       "\n",
       "    .dataframe tbody tr th {\n",
       "        vertical-align: top;\n",
       "    }\n",
       "\n",
       "    .dataframe thead th {\n",
       "        text-align: right;\n",
       "    }\n",
       "</style>\n",
       "<table border=\"1\" class=\"dataframe\">\n",
       "  <thead>\n",
       "    <tr style=\"text-align: right;\">\n",
       "      <th></th>\n",
       "      <th>name</th>\n",
       "      <th>MDVP:Jitter(%)</th>\n",
       "      <th>MDVP:Jitter(Abs)</th>\n",
       "      <th>MDVP:RAP</th>\n",
       "      <th>MDVP:PPQ</th>\n",
       "      <th>Jitter:DDP</th>\n",
       "      <th>MDVP:Shimmer</th>\n",
       "      <th>MDVP:Shimmer(dB)</th>\n",
       "      <th>Shimmer:APQ3</th>\n",
       "      <th>Shimmer:APQ5</th>\n",
       "      <th>MDVP:APQ</th>\n",
       "      <th>Shimmer:DDA</th>\n",
       "      <th>status</th>\n",
       "      <th>RPDE</th>\n",
       "      <th>spread1</th>\n",
       "      <th>spread2</th>\n",
       "      <th>D2</th>\n",
       "      <th>PPE</th>\n",
       "    </tr>\n",
       "  </thead>\n",
       "  <tbody>\n",
       "    <tr>\n",
       "      <th>0</th>\n",
       "      <td>phon_R01_S01_1</td>\n",
       "      <td>-4.848516</td>\n",
       "      <td>-9.567015</td>\n",
       "      <td>-5.599422</td>\n",
       "      <td>-5.195761</td>\n",
       "      <td>-4.501711</td>\n",
       "      <td>-3.129492</td>\n",
       "      <td>-0.853316</td>\n",
       "      <td>-3.824928</td>\n",
       "      <td>-3.464137</td>\n",
       "      <td>-3.516272</td>\n",
       "      <td>-2.726469</td>\n",
       "      <td>1</td>\n",
       "      <td>0.414783</td>\n",
       "      <td>-4.813031</td>\n",
       "      <td>0.266482</td>\n",
       "      <td>2.301442</td>\n",
       "      <td>-1.256481</td>\n",
       "    </tr>\n",
       "    <tr>\n",
       "      <th>1</th>\n",
       "      <td>phon_R01_S01_2</td>\n",
       "      <td>-4.637693</td>\n",
       "      <td>-9.433484</td>\n",
       "      <td>-5.370888</td>\n",
       "      <td>-4.967576</td>\n",
       "      <td>-4.272993</td>\n",
       "      <td>-2.791323</td>\n",
       "      <td>-0.468405</td>\n",
       "      <td>-3.462860</td>\n",
       "      <td>-3.097101</td>\n",
       "      <td>-3.130865</td>\n",
       "      <td>-2.364141</td>\n",
       "      <td>1</td>\n",
       "      <td>0.458359</td>\n",
       "      <td>-4.075192</td>\n",
       "      <td>0.335590</td>\n",
       "      <td>2.486855</td>\n",
       "      <td>-0.997842</td>\n",
       "    </tr>\n",
       "    <tr>\n",
       "      <th>2</th>\n",
       "      <td>phon_R01_S01_3</td>\n",
       "      <td>-4.556380</td>\n",
       "      <td>-9.315701</td>\n",
       "      <td>-5.213976</td>\n",
       "      <td>-4.852350</td>\n",
       "      <td>-4.114751</td>\n",
       "      <td>-2.950185</td>\n",
       "      <td>-0.729811</td>\n",
       "      <td>-3.591027</td>\n",
       "      <td>-3.255021</td>\n",
       "      <td>-3.327018</td>\n",
       "      <td>-2.492536</td>\n",
       "      <td>1</td>\n",
       "      <td>0.429895</td>\n",
       "      <td>-4.443179</td>\n",
       "      <td>0.311173</td>\n",
       "      <td>2.342259</td>\n",
       "      <td>-1.100712</td>\n",
       "    </tr>\n",
       "    <tr>\n",
       "      <th>3</th>\n",
       "      <td>phon_R01_S01_4</td>\n",
       "      <td>-4.608175</td>\n",
       "      <td>-9.315701</td>\n",
       "      <td>-5.294325</td>\n",
       "      <td>-4.964706</td>\n",
       "      <td>-4.196377</td>\n",
       "      <td>-2.901878</td>\n",
       "      <td>-0.659712</td>\n",
       "      <td>-3.532218</td>\n",
       "      <td>-3.217627</td>\n",
       "      <td>-3.277565</td>\n",
       "      <td>-2.433719</td>\n",
       "      <td>1</td>\n",
       "      <td>0.434969</td>\n",
       "      <td>-4.117501</td>\n",
       "      <td>0.334147</td>\n",
       "      <td>2.405554</td>\n",
       "      <td>-0.997026</td>\n",
       "    </tr>\n",
       "    <tr>\n",
       "      <th>4</th>\n",
       "      <td>phon_R01_S01_5</td>\n",
       "      <td>-4.355190</td>\n",
       "      <td>-9.115030</td>\n",
       "      <td>-5.028290</td>\n",
       "      <td>-4.701681</td>\n",
       "      <td>-3.929169</td>\n",
       "      <td>-2.744974</td>\n",
       "      <td>-0.537854</td>\n",
       "      <td>-3.355268</td>\n",
       "      <td>-3.031359</td>\n",
       "      <td>-3.108901</td>\n",
       "      <td>-2.256656</td>\n",
       "      <td>1</td>\n",
       "      <td>0.417356</td>\n",
       "      <td>-3.747787</td>\n",
       "      <td>0.234513</td>\n",
       "      <td>2.332180</td>\n",
       "      <td>-0.890781</td>\n",
       "    </tr>\n",
       "  </tbody>\n",
       "</table>\n",
       "</div>"
      ],
      "text/plain": [
       "             name  MDVP:Jitter(%)  MDVP:Jitter(Abs)  MDVP:RAP  MDVP:PPQ  \\\n",
       "0  phon_R01_S01_1       -4.848516         -9.567015 -5.599422 -5.195761   \n",
       "1  phon_R01_S01_2       -4.637693         -9.433484 -5.370888 -4.967576   \n",
       "2  phon_R01_S01_3       -4.556380         -9.315701 -5.213976 -4.852350   \n",
       "3  phon_R01_S01_4       -4.608175         -9.315701 -5.294325 -4.964706   \n",
       "4  phon_R01_S01_5       -4.355190         -9.115030 -5.028290 -4.701681   \n",
       "\n",
       "   Jitter:DDP  MDVP:Shimmer  MDVP:Shimmer(dB)  Shimmer:APQ3  Shimmer:APQ5  \\\n",
       "0   -4.501711     -3.129492         -0.853316     -3.824928     -3.464137   \n",
       "1   -4.272993     -2.791323         -0.468405     -3.462860     -3.097101   \n",
       "2   -4.114751     -2.950185         -0.729811     -3.591027     -3.255021   \n",
       "3   -4.196377     -2.901878         -0.659712     -3.532218     -3.217627   \n",
       "4   -3.929169     -2.744974         -0.537854     -3.355268     -3.031359   \n",
       "\n",
       "   MDVP:APQ  Shimmer:DDA  status      RPDE   spread1   spread2        D2  \\\n",
       "0 -3.516272    -2.726469       1  0.414783 -4.813031  0.266482  2.301442   \n",
       "1 -3.130865    -2.364141       1  0.458359 -4.075192  0.335590  2.486855   \n",
       "2 -3.327018    -2.492536       1  0.429895 -4.443179  0.311173  2.342259   \n",
       "3 -3.277565    -2.433719       1  0.434969 -4.117501  0.334147  2.405554   \n",
       "4 -3.108901    -2.256656       1  0.417356 -3.747787  0.234513  2.332180   \n",
       "\n",
       "        PPE  \n",
       "0 -1.256481  \n",
       "1 -0.997842  \n",
       "2 -1.100712  \n",
       "3 -0.997026  \n",
       "4 -0.890781  "
      ]
     },
     "execution_count": 33,
     "metadata": {},
     "output_type": "execute_result"
    }
   ],
   "source": [
    "df.head()"
   ]
  },
  {
   "cell_type": "code",
   "execution_count": 34,
   "metadata": {
    "ExecuteTime": {
     "end_time": "2020-09-02T04:59:58.784730Z",
     "start_time": "2020-09-02T04:59:58.761063Z"
    }
   },
   "outputs": [],
   "source": [
    "# saving dataframe to csv for further use \n",
    "df.to_csv(\"D:\\\\Technocolabs Machine Learning Internship\\\\Minor Project\\\\Dataset\\\\transformeddata.csv\",index=False)"
   ]
  },
  {
   "cell_type": "markdown",
   "metadata": {
    "ExecuteTime": {
     "end_time": "2020-09-02T02:11:20.413513Z",
     "start_time": "2020-09-02T02:11:19.211355Z"
    }
   },
   "source": [
    "### Data Preprocessing"
   ]
  },
  {
   "cell_type": "code",
   "execution_count": 35,
   "metadata": {
    "ExecuteTime": {
     "end_time": "2020-09-02T04:59:58.810093Z",
     "start_time": "2020-09-02T04:59:58.787465Z"
    }
   },
   "outputs": [],
   "source": [
    "x = df.drop([\"status\",\"name\"],axis=1)\n",
    "y = df[\"status\"]\n",
    "col = x.columns\n",
    "from sklearn.preprocessing import MinMaxScaler\n",
    "scaler = MinMaxScaler()\n",
    "x_scaled = scaler.fit_transform(x)"
   ]
  },
  {
   "cell_type": "code",
   "execution_count": 36,
   "metadata": {
    "ExecuteTime": {
     "end_time": "2020-09-02T04:59:58.859018Z",
     "start_time": "2020-09-02T04:59:58.814436Z"
    }
   },
   "outputs": [
    {
     "data": {
      "text/html": [
       "<div>\n",
       "<style scoped>\n",
       "    .dataframe tbody tr th:only-of-type {\n",
       "        vertical-align: middle;\n",
       "    }\n",
       "\n",
       "    .dataframe tbody tr th {\n",
       "        vertical-align: top;\n",
       "    }\n",
       "\n",
       "    .dataframe thead th {\n",
       "        text-align: right;\n",
       "    }\n",
       "</style>\n",
       "<table border=\"1\" class=\"dataframe\">\n",
       "  <thead>\n",
       "    <tr style=\"text-align: right;\">\n",
       "      <th></th>\n",
       "      <th>MDVP:Jitter(%)</th>\n",
       "      <th>MDVP:Jitter(Abs)</th>\n",
       "      <th>MDVP:RAP</th>\n",
       "      <th>MDVP:PPQ</th>\n",
       "      <th>Jitter:DDP</th>\n",
       "      <th>MDVP:Shimmer</th>\n",
       "      <th>MDVP:Shimmer(dB)</th>\n",
       "      <th>Shimmer:APQ3</th>\n",
       "      <th>Shimmer:APQ5</th>\n",
       "      <th>MDVP:APQ</th>\n",
       "      <th>Shimmer:DDA</th>\n",
       "      <th>RPDE</th>\n",
       "      <th>spread1</th>\n",
       "      <th>spread2</th>\n",
       "      <th>D2</th>\n",
       "      <th>PPE</th>\n",
       "    </tr>\n",
       "  </thead>\n",
       "  <tbody>\n",
       "    <tr>\n",
       "      <th>0</th>\n",
       "      <td>0.516486</td>\n",
       "      <td>0.636993</td>\n",
       "      <td>0.490882</td>\n",
       "      <td>0.587129</td>\n",
       "      <td>0.490599</td>\n",
       "      <td>0.603244</td>\n",
       "      <td>0.590614</td>\n",
       "      <td>0.622453</td>\n",
       "      <td>0.646595</td>\n",
       "      <td>0.480463</td>\n",
       "      <td>0.622488</td>\n",
       "      <td>0.369155</td>\n",
       "      <td>0.569875</td>\n",
       "      <td>0.585765</td>\n",
       "      <td>0.390661</td>\n",
       "      <td>0.750510</td>\n",
       "    </tr>\n",
       "    <tr>\n",
       "      <th>1</th>\n",
       "      <td>0.587171</td>\n",
       "      <td>0.673934</td>\n",
       "      <td>0.557106</td>\n",
       "      <td>0.661751</td>\n",
       "      <td>0.556873</td>\n",
       "      <td>0.737209</td>\n",
       "      <td>0.731658</td>\n",
       "      <td>0.766212</td>\n",
       "      <td>0.785939</td>\n",
       "      <td>0.610978</td>\n",
       "      <td>0.766304</td>\n",
       "      <td>0.470830</td>\n",
       "      <td>0.703277</td>\n",
       "      <td>0.741337</td>\n",
       "      <td>0.473145</td>\n",
       "      <td>0.855157</td>\n",
       "    </tr>\n",
       "    <tr>\n",
       "      <th>2</th>\n",
       "      <td>0.614434</td>\n",
       "      <td>0.706518</td>\n",
       "      <td>0.602576</td>\n",
       "      <td>0.699432</td>\n",
       "      <td>0.602726</td>\n",
       "      <td>0.674276</td>\n",
       "      <td>0.635870</td>\n",
       "      <td>0.715323</td>\n",
       "      <td>0.725985</td>\n",
       "      <td>0.544553</td>\n",
       "      <td>0.715342</td>\n",
       "      <td>0.404416</td>\n",
       "      <td>0.636745</td>\n",
       "      <td>0.686371</td>\n",
       "      <td>0.408819</td>\n",
       "      <td>0.813535</td>\n",
       "    </tr>\n",
       "    <tr>\n",
       "      <th>3</th>\n",
       "      <td>0.597068</td>\n",
       "      <td>0.706518</td>\n",
       "      <td>0.579292</td>\n",
       "      <td>0.662689</td>\n",
       "      <td>0.579074</td>\n",
       "      <td>0.693413</td>\n",
       "      <td>0.661557</td>\n",
       "      <td>0.738674</td>\n",
       "      <td>0.740182</td>\n",
       "      <td>0.561300</td>\n",
       "      <td>0.738687</td>\n",
       "      <td>0.416255</td>\n",
       "      <td>0.695627</td>\n",
       "      <td>0.738089</td>\n",
       "      <td>0.436977</td>\n",
       "      <td>0.855487</td>\n",
       "    </tr>\n",
       "    <tr>\n",
       "      <th>4</th>\n",
       "      <td>0.681890</td>\n",
       "      <td>0.762032</td>\n",
       "      <td>0.656384</td>\n",
       "      <td>0.748704</td>\n",
       "      <td>0.656501</td>\n",
       "      <td>0.755571</td>\n",
       "      <td>0.706210</td>\n",
       "      <td>0.808931</td>\n",
       "      <td>0.810897</td>\n",
       "      <td>0.618416</td>\n",
       "      <td>0.808968</td>\n",
       "      <td>0.375159</td>\n",
       "      <td>0.762472</td>\n",
       "      <td>0.513798</td>\n",
       "      <td>0.404336</td>\n",
       "      <td>0.898475</td>\n",
       "    </tr>\n",
       "  </tbody>\n",
       "</table>\n",
       "</div>"
      ],
      "text/plain": [
       "   MDVP:Jitter(%)  MDVP:Jitter(Abs)  MDVP:RAP  MDVP:PPQ  Jitter:DDP  \\\n",
       "0        0.516486          0.636993  0.490882  0.587129    0.490599   \n",
       "1        0.587171          0.673934  0.557106  0.661751    0.556873   \n",
       "2        0.614434          0.706518  0.602576  0.699432    0.602726   \n",
       "3        0.597068          0.706518  0.579292  0.662689    0.579074   \n",
       "4        0.681890          0.762032  0.656384  0.748704    0.656501   \n",
       "\n",
       "   MDVP:Shimmer  MDVP:Shimmer(dB)  Shimmer:APQ3  Shimmer:APQ5  MDVP:APQ  \\\n",
       "0      0.603244          0.590614      0.622453      0.646595  0.480463   \n",
       "1      0.737209          0.731658      0.766212      0.785939  0.610978   \n",
       "2      0.674276          0.635870      0.715323      0.725985  0.544553   \n",
       "3      0.693413          0.661557      0.738674      0.740182  0.561300   \n",
       "4      0.755571          0.706210      0.808931      0.810897  0.618416   \n",
       "\n",
       "   Shimmer:DDA      RPDE   spread1   spread2        D2       PPE  \n",
       "0     0.622488  0.369155  0.569875  0.585765  0.390661  0.750510  \n",
       "1     0.766304  0.470830  0.703277  0.741337  0.473145  0.855157  \n",
       "2     0.715342  0.404416  0.636745  0.686371  0.408819  0.813535  \n",
       "3     0.738687  0.416255  0.695627  0.738089  0.436977  0.855487  \n",
       "4     0.808968  0.375159  0.762472  0.513798  0.404336  0.898475  "
      ]
     },
     "execution_count": 36,
     "metadata": {},
     "output_type": "execute_result"
    }
   ],
   "source": [
    "x = pd.DataFrame(x_scaled, columns=col)\n",
    "x.head()"
   ]
  },
  {
   "cell_type": "code",
   "execution_count": 37,
   "metadata": {
    "ExecuteTime": {
     "end_time": "2020-09-02T04:59:59.059671Z",
     "start_time": "2020-09-02T04:59:58.862694Z"
    }
   },
   "outputs": [
    {
     "name": "stdout",
     "output_type": "stream",
     "text": [
      "            Features     Score\n",
      "12           spread1  5.832052\n",
      "9           MDVP:APQ  4.333893\n",
      "15               PPE  4.218262\n",
      "5       MDVP:Shimmer  4.178076\n",
      "6   MDVP:Shimmer(dB)  4.029024\n",
      "8       Shimmer:APQ5  3.858415\n",
      "1   MDVP:Jitter(Abs)  3.807486\n",
      "7       Shimmer:APQ3  3.454705\n",
      "10       Shimmer:DDA  3.450908\n",
      "3           MDVP:PPQ  2.959145\n"
     ]
    }
   ],
   "source": [
    "from sklearn.feature_selection import SelectKBest\n",
    "from sklearn.feature_selection import chi2\n",
    "\n",
    "bestfeatures = SelectKBest(score_func=chi2, k=10)\n",
    "fit = bestfeatures.fit(x,y)\n",
    "dfscores = pd.DataFrame(fit.scores_)\n",
    "dfcolumns = pd.DataFrame(x.columns)\n",
    "featureScores = pd.concat([dfcolumns,dfscores],axis=1)\n",
    "featureScores.columns = ['Features','Score']  #naming the dataframe columns\n",
    "print(featureScores.nlargest(10,'Score'))"
   ]
  },
  {
   "cell_type": "code",
   "execution_count": 38,
   "metadata": {
    "ExecuteTime": {
     "end_time": "2020-09-02T04:59:59.071807Z",
     "start_time": "2020-09-02T04:59:59.063354Z"
    }
   },
   "outputs": [],
   "source": [
    "features = [\"spread1\",\"MDVP:APQ\",\"PPE\",\"MDVP:Shimmer\",\"MDVP:Shimmer(dB)\"]"
   ]
  },
  {
   "cell_type": "code",
   "execution_count": 39,
   "metadata": {
    "ExecuteTime": {
     "end_time": "2020-09-02T04:59:59.090778Z",
     "start_time": "2020-09-02T04:59:59.073922Z"
    }
   },
   "outputs": [],
   "source": [
    "x = x[[\"spread1\",\"MDVP:APQ\",\"PPE\",\"MDVP:Shimmer\",\"MDVP:Shimmer(dB)\"]]"
   ]
  },
  {
   "cell_type": "code",
   "execution_count": 40,
   "metadata": {
    "ExecuteTime": {
     "end_time": "2020-09-02T04:59:59.107455Z",
     "start_time": "2020-09-02T04:59:59.092863Z"
    }
   },
   "outputs": [
    {
     "data": {
      "text/html": [
       "<div>\n",
       "<style scoped>\n",
       "    .dataframe tbody tr th:only-of-type {\n",
       "        vertical-align: middle;\n",
       "    }\n",
       "\n",
       "    .dataframe tbody tr th {\n",
       "        vertical-align: top;\n",
       "    }\n",
       "\n",
       "    .dataframe thead th {\n",
       "        text-align: right;\n",
       "    }\n",
       "</style>\n",
       "<table border=\"1\" class=\"dataframe\">\n",
       "  <thead>\n",
       "    <tr style=\"text-align: right;\">\n",
       "      <th></th>\n",
       "      <th>spread1</th>\n",
       "      <th>MDVP:APQ</th>\n",
       "      <th>PPE</th>\n",
       "      <th>MDVP:Shimmer</th>\n",
       "      <th>MDVP:Shimmer(dB)</th>\n",
       "    </tr>\n",
       "  </thead>\n",
       "  <tbody>\n",
       "    <tr>\n",
       "      <th>0</th>\n",
       "      <td>0.569875</td>\n",
       "      <td>0.480463</td>\n",
       "      <td>0.750510</td>\n",
       "      <td>0.603244</td>\n",
       "      <td>0.590614</td>\n",
       "    </tr>\n",
       "    <tr>\n",
       "      <th>1</th>\n",
       "      <td>0.703277</td>\n",
       "      <td>0.610978</td>\n",
       "      <td>0.855157</td>\n",
       "      <td>0.737209</td>\n",
       "      <td>0.731658</td>\n",
       "    </tr>\n",
       "    <tr>\n",
       "      <th>2</th>\n",
       "      <td>0.636745</td>\n",
       "      <td>0.544553</td>\n",
       "      <td>0.813535</td>\n",
       "      <td>0.674276</td>\n",
       "      <td>0.635870</td>\n",
       "    </tr>\n",
       "    <tr>\n",
       "      <th>3</th>\n",
       "      <td>0.695627</td>\n",
       "      <td>0.561300</td>\n",
       "      <td>0.855487</td>\n",
       "      <td>0.693413</td>\n",
       "      <td>0.661557</td>\n",
       "    </tr>\n",
       "    <tr>\n",
       "      <th>4</th>\n",
       "      <td>0.762472</td>\n",
       "      <td>0.618416</td>\n",
       "      <td>0.898475</td>\n",
       "      <td>0.755571</td>\n",
       "      <td>0.706210</td>\n",
       "    </tr>\n",
       "  </tbody>\n",
       "</table>\n",
       "</div>"
      ],
      "text/plain": [
       "    spread1  MDVP:APQ       PPE  MDVP:Shimmer  MDVP:Shimmer(dB)\n",
       "0  0.569875  0.480463  0.750510      0.603244          0.590614\n",
       "1  0.703277  0.610978  0.855157      0.737209          0.731658\n",
       "2  0.636745  0.544553  0.813535      0.674276          0.635870\n",
       "3  0.695627  0.561300  0.855487      0.693413          0.661557\n",
       "4  0.762472  0.618416  0.898475      0.755571          0.706210"
      ]
     },
     "execution_count": 40,
     "metadata": {},
     "output_type": "execute_result"
    }
   ],
   "source": [
    "x.head()"
   ]
  },
  {
   "cell_type": "code",
   "execution_count": 41,
   "metadata": {
    "ExecuteTime": {
     "end_time": "2020-09-02T04:59:59.126253Z",
     "start_time": "2020-09-02T04:59:59.111520Z"
    }
   },
   "outputs": [],
   "source": [
    "x.to_csv(\"D:\\\\Technocolabs Machine Learning Internship\\\\Minor Project\\\\Dataset\\\\top5feat.csv\",index=False)"
   ]
  },
  {
   "cell_type": "markdown",
   "metadata": {},
   "source": [
    "### Splitting Data "
   ]
  },
  {
   "cell_type": "code",
   "execution_count": 42,
   "metadata": {
    "ExecuteTime": {
     "end_time": "2020-09-02T04:59:59.142140Z",
     "start_time": "2020-09-02T04:59:59.129331Z"
    }
   },
   "outputs": [],
   "source": [
    "train_x, test_x, train_y, test_y = tts(x, y, test_size=0.2,random_state=96, stratify=y)"
   ]
  },
  {
   "cell_type": "code",
   "execution_count": 43,
   "metadata": {
    "ExecuteTime": {
     "end_time": "2020-09-02T04:59:59.158666Z",
     "start_time": "2020-09-02T04:59:59.144349Z"
    }
   },
   "outputs": [
    {
     "data": {
      "text/plain": [
       "((156, 5), (156,))"
      ]
     },
     "execution_count": 43,
     "metadata": {},
     "output_type": "execute_result"
    }
   ],
   "source": [
    "train_x.shape,train_y.shape"
   ]
  },
  {
   "cell_type": "code",
   "execution_count": 44,
   "metadata": {
    "ExecuteTime": {
     "end_time": "2020-09-02T04:59:59.175577Z",
     "start_time": "2020-09-02T04:59:59.162632Z"
    }
   },
   "outputs": [
    {
     "data": {
      "text/plain": [
       "((39, 5), (39,))"
      ]
     },
     "execution_count": 44,
     "metadata": {},
     "output_type": "execute_result"
    }
   ],
   "source": [
    "test_x.shape,test_y.shape"
   ]
  },
  {
   "cell_type": "markdown",
   "metadata": {},
   "source": [
    "### Model Building"
   ]
  },
  {
   "cell_type": "code",
   "execution_count": 45,
   "metadata": {
    "ExecuteTime": {
     "end_time": "2020-09-02T04:59:59.920703Z",
     "start_time": "2020-09-02T04:59:59.180848Z"
    }
   },
   "outputs": [
    {
     "data": {
      "text/plain": [
       "XGBClassifier(base_score=0.5, booster='gbtree', colsample_bylevel=1,\n",
       "              colsample_bynode=1, colsample_bytree=1, gamma=0, gpu_id=-1,\n",
       "              importance_type='gain', interaction_constraints='',\n",
       "              learning_rate=0.300000012, max_delta_step=0, max_depth=6,\n",
       "              min_child_weight=1, missing=nan, monotone_constraints='()',\n",
       "              n_estimators=100, n_jobs=0, num_parallel_tree=1, random_state=0,\n",
       "              reg_alpha=0, reg_lambda=1, scale_pos_weight=1, subsample=1,\n",
       "              tree_method='exact', validate_parameters=1, verbosity=None)"
      ]
     },
     "execution_count": 45,
     "metadata": {},
     "output_type": "execute_result"
    }
   ],
   "source": [
    "temp_model = xgb.XGBClassifier()\n",
    "\n",
    "temp_model.fit(train_x, train_y)"
   ]
  },
  {
   "cell_type": "code",
   "execution_count": 46,
   "metadata": {
    "ExecuteTime": {
     "end_time": "2020-09-02T04:59:59.944919Z",
     "start_time": "2020-09-02T04:59:59.921731Z"
    }
   },
   "outputs": [
    {
     "name": "stdout",
     "output_type": "stream",
     "text": [
      "Training Score :  0.9935897435897436\n",
      "Testing Score :  0.8461538461538461\n"
     ]
    }
   ],
   "source": [
    "temp_train_predict = temp_model.predict(train_x)\n",
    "temp_test_predict = temp_model.predict(test_x)\n",
    "\n",
    "temp_train_score = accuracy_score(temp_train_predict, train_y)\n",
    "temp_test_score = accuracy_score(temp_test_predict, test_y)\n",
    "print(\"Training Score : \", temp_train_score)\n",
    "print(\"Testing Score : \", temp_test_score)"
   ]
  },
  {
   "cell_type": "markdown",
   "metadata": {},
   "source": [
    "* The model performs well on training data but poor on testing data"
   ]
  },
  {
   "cell_type": "code",
   "execution_count": 47,
   "metadata": {
    "ExecuteTime": {
     "end_time": "2020-09-02T04:59:59.977253Z",
     "start_time": "2020-09-02T04:59:59.946592Z"
    }
   },
   "outputs": [
    {
     "data": {
      "text/plain": [
       "XGBClassifier(alpha=10, base_score=0.5, booster='gbtree', colsample_bylevel=1,\n",
       "              colsample_bynode=1, colsample_bytree=0.8, gamma=0, gpu_id=-1,\n",
       "              importance_type='gain', interaction_constraints='',\n",
       "              learning_rate=0.5, max_delta_step=0, max_depth=4,\n",
       "              min_child_weight=8, missing=nan, monotone_constraints='()',\n",
       "              n_estimators=100, n_jobs=0, num_parallel_tree=1, random_state=40,\n",
       "              reg_alpha=10, reg_lambda=0.01, scale_pos_weight=1, seed=40,\n",
       "              subsample=0.8, tree_method='exact', validate_parameters=1,\n",
       "              verbosity=None)"
      ]
     },
     "execution_count": 47,
     "metadata": {},
     "output_type": "execute_result"
    }
   ],
   "source": [
    "model = xgb.XGBClassifier(colsample_bytree=0.8,\n",
    "                          gamma=0,\n",
    "                          learning_rate=0.5,\n",
    "                          max_depth=4,\n",
    "                          min_child_weight=8,\n",
    "                          n_estimators=100,\n",
    "                          alpha=10,\n",
    "                          reg_lambda=0.01,\n",
    "                          subsample=0.8,\n",
    "                          seed=40)\n",
    "\n",
    "model.fit(train_x, train_y)"
   ]
  },
  {
   "cell_type": "code",
   "execution_count": 48,
   "metadata": {
    "ExecuteTime": {
     "end_time": "2020-09-02T04:59:59.993413Z",
     "start_time": "2020-09-02T04:59:59.979575Z"
    }
   },
   "outputs": [
    {
     "name": "stdout",
     "output_type": "stream",
     "text": [
      "Training Score :  0.8589743589743589\n",
      "Testing Score :  0.8461538461538461\n"
     ]
    }
   ],
   "source": [
    "train_predict = model.predict(train_x)\n",
    "test_predict = model.predict(test_x)\n",
    "\n",
    "train_score = accuracy_score(train_predict, train_y)\n",
    "test_score = accuracy_score(test_predict, test_y)\n",
    "print(\"Training Score : \", train_score)\n",
    "print(\"Testing Score : \", test_score)"
   ]
  },
  {
   "cell_type": "markdown",
   "metadata": {},
   "source": [
    "* Improved Performance of the model keeping it reliable to use"
   ]
  },
  {
   "cell_type": "code",
   "execution_count": null,
   "metadata": {},
   "outputs": [],
   "source": []
  }
 ],
 "metadata": {
  "kernelspec": {
   "display_name": "Python 3",
   "language": "python",
   "name": "python3"
  },
  "language_info": {
   "codemirror_mode": {
    "name": "ipython",
    "version": 3
   },
   "file_extension": ".py",
   "mimetype": "text/x-python",
   "name": "python",
   "nbconvert_exporter": "python",
   "pygments_lexer": "ipython3",
   "version": "3.8.3"
  },
  "varInspector": {
   "cols": {
    "lenName": 16,
    "lenType": 16,
    "lenVar": 40
   },
   "kernels_config": {
    "python": {
     "delete_cmd_postfix": "",
     "delete_cmd_prefix": "del ",
     "library": "var_list.py",
     "varRefreshCmd": "print(var_dic_list())"
    },
    "r": {
     "delete_cmd_postfix": ") ",
     "delete_cmd_prefix": "rm(",
     "library": "var_list.r",
     "varRefreshCmd": "cat(var_dic_list()) "
    }
   },
   "types_to_exclude": [
    "module",
    "function",
    "builtin_function_or_method",
    "instance",
    "_Feature"
   ],
   "window_display": false
  }
 },
 "nbformat": 4,
 "nbformat_minor": 4
}
