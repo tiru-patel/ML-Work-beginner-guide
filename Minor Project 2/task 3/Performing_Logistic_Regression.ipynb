{
 "cells": [
  {
   "cell_type": "code",
   "execution_count": 1,
   "metadata": {
    "ExecuteTime": {
     "end_time": "2020-09-19T15:07:25.874587Z",
     "start_time": "2020-09-19T15:07:25.863618Z"
    }
   },
   "outputs": [
    {
     "data": {
      "application/javascript": [
       "IPython.notebook.set_autosave_interval(10000)"
      ]
     },
     "metadata": {},
     "output_type": "display_data"
    },
    {
     "name": "stdout",
     "output_type": "stream",
     "text": [
      "Autosaving every 10 seconds\n"
     ]
    }
   ],
   "source": [
    "%autosave 10"
   ]
  },
  {
   "cell_type": "markdown",
   "metadata": {},
   "source": [
    "**First, create a dataframe of *cleaned_data.csv*. Then, use scikit-learn's `train_test_split` to make a new set of training and testing data. This time, instead of `EDUCATION`, use `LIMIT_BAL`: the account's credit limit.**"
   ]
  },
  {
   "cell_type": "code",
   "execution_count": 2,
   "metadata": {
    "ExecuteTime": {
     "end_time": "2020-09-19T15:07:27.569784Z",
     "start_time": "2020-09-19T15:07:26.655402Z"
    },
    "eid": "662ef"
   },
   "outputs": [],
   "source": [
    "import os\n",
    "import pandas as pd \n",
    "import numpy as np \n",
    "from sklearn.model_selection import train_test_split as tts \n",
    "from sklearn.linear_model import LogisticRegression as lr \n",
    "\n",
    "os.chdir(\"C:\\\\Users\\\\tirth\\\\Technocolabs\\\\project 2\\\\Data set\")\n",
    "\n",
    "df = pd.read_csv('cleaned_data.csv')\n",
    "\n",
    "train_x, test_x, train_y, test_y = tts(\n",
    "df['EDUCATION'].values.reshape(-1,1), df['default payment next month'].values,\n",
    "test_size=0.2, random_state=24)"
   ]
  },
  {
   "cell_type": "code",
   "execution_count": 3,
   "metadata": {
    "ExecuteTime": {
     "end_time": "2020-09-19T15:07:27.599887Z",
     "start_time": "2020-09-19T15:07:27.594898Z"
    }
   },
   "outputs": [
    {
     "name": "stdout",
     "output_type": "stream",
     "text": [
      "(21331, 1)\n",
      "(21331,)\n",
      "(5333, 1)\n",
      "(5333,)\n"
     ]
    }
   ],
   "source": [
    "print (train_x.shape)\n",
    "print (train_y.shape)\n",
    "print (test_x.shape)\n",
    "print (test_y.shape)"
   ]
  },
  {
   "cell_type": "markdown",
   "metadata": {},
   "source": [
    "_________________________________________________________________________\n",
    "**Next, train a logistic regression model using the training data from your split.**\n"
   ]
  },
  {
   "cell_type": "code",
   "execution_count": 4,
   "metadata": {
    "ExecuteTime": {
     "end_time": "2020-09-19T15:07:28.281835Z",
     "start_time": "2020-09-19T15:07:28.277845Z"
    },
    "eid": "05e84"
   },
   "outputs": [],
   "source": [
    "model = lr(C=0.1, class_weight=None, dual=False, fit_intercept=True, \n",
    "                                intercept_scaling=1, max_iter=100, n_jobs=None, \n",
    "                                penalty='l2', random_state=None, solver='liblinear', tol=0.0001, \n",
    "                                verbose=0, warm_start=False)"
   ]
  },
  {
   "cell_type": "markdown",
   "metadata": {},
   "source": [
    "_________________________________________________________________________\n",
    "**Then, create the array of predicted probabilities for the testing data.**\n"
   ]
  },
  {
   "cell_type": "code",
   "execution_count": 5,
   "metadata": {
    "ExecuteTime": {
     "end_time": "2020-09-19T15:07:32.222749Z",
     "start_time": "2020-09-19T15:07:32.201370Z"
    },
    "eid": "b671b"
   },
   "outputs": [
    {
     "data": {
      "text/plain": [
       "array([0, 0, 0, ..., 0, 0, 0], dtype=int64)"
      ]
     },
     "execution_count": 5,
     "metadata": {},
     "output_type": "execute_result"
    }
   ],
   "source": [
    "model.fit(train_x,train_y)\n",
    "pred_y = model.predict(test_x)\n",
    "pred_y"
   ]
  },
  {
   "cell_type": "code",
   "execution_count": 6,
   "metadata": {
    "ExecuteTime": {
     "end_time": "2020-09-19T15:08:18.620650Z",
     "start_time": "2020-09-19T15:08:18.613646Z"
    }
   },
   "outputs": [
    {
     "data": {
      "text/plain": [
       "array([-1.39260028])"
      ]
     },
     "execution_count": 6,
     "metadata": {},
     "output_type": "execute_result"
    }
   ],
   "source": [
    "model.intercept_"
   ]
  },
  {
   "cell_type": "markdown",
   "metadata": {},
   "source": [
    "_________________________________________________________________________\n",
    "**Next, calculate the ROC AUC using the predicted probabilities and the true labels of the testing data. Compare this to the ROC AUC from using the `EDUCATION` feature.**\n"
   ]
  },
  {
   "cell_type": "code",
   "execution_count": 29,
   "metadata": {
    "ExecuteTime": {
     "end_time": "2020-09-19T12:38:09.674630Z",
     "start_time": "2020-09-19T12:38:09.663658Z"
    },
    "eid": "58476"
   },
   "outputs": [
    {
     "name": "stdout",
     "output_type": "stream",
     "text": [
      "Training Score : 0.776897473161127\n",
      "Testing Score : 0.7834239639977498\n",
      "Training Accuracy 0.06947634897566922\n",
      "Testing Accuracy 0.06431651978248641\n"
     ]
    }
   ],
   "source": [
    "print(\"Training Score :\",model.score(train_x,train_y))\n",
    "print(\"Testing Score :\",model.score(test_x,test_y))\n",
    "\n",
    "from sklearn.metrics import accuracy_score\n",
    "print(\"Training Accuracy\",accuracy_score(train_x,train_y))\n",
    "print(\"Testing Accuracy\",accuracy_score(test_x,test_y))"
   ]
  },
  {
   "cell_type": "code",
   "execution_count": 9,
   "metadata": {
    "ExecuteTime": {
     "end_time": "2020-09-19T15:10:05.332035Z",
     "start_time": "2020-09-19T15:10:05.318072Z"
    }
   },
   "outputs": [
    {
     "data": {
      "text/plain": [
       "array([[4178,    0],\n",
       "       [1155,    0]], dtype=int64)"
      ]
     },
     "execution_count": 9,
     "metadata": {},
     "output_type": "execute_result"
    }
   ],
   "source": [
    "from sklearn.metrics import confusion_matrix\n",
    "confusion_matrix(test_y, pred_y)"
   ]
  },
  {
   "cell_type": "code",
   "execution_count": 11,
   "metadata": {
    "ExecuteTime": {
     "end_time": "2020-09-19T15:11:58.428758Z",
     "start_time": "2020-09-19T15:11:58.419783Z"
    }
   },
   "outputs": [
    {
     "data": {
      "text/plain": [
       "array([[0.77423402, 0.22576598],\n",
       "       [0.77423402, 0.22576598],\n",
       "       [0.78792915, 0.21207085],\n",
       "       ...,\n",
       "       [0.78792915, 0.21207085],\n",
       "       [0.78792915, 0.21207085],\n",
       "       [0.78792915, 0.21207085]])"
      ]
     },
     "execution_count": 11,
     "metadata": {},
     "output_type": "execute_result"
    }
   ],
   "source": [
    "y_pred_proba = model.predict_proba(test_x)\n",
    "y_pred_proba"
   ]
  },
  {
   "cell_type": "code",
   "execution_count": 12,
   "metadata": {
    "ExecuteTime": {
     "end_time": "2020-09-19T15:17:55.363052Z",
     "start_time": "2020-09-19T15:17:55.357083Z"
    }
   },
   "outputs": [
    {
     "data": {
      "text/plain": [
       "array([0.22576598, 0.22576598, 0.21207085, ..., 0.21207085, 0.21207085,\n",
       "       0.21207085])"
      ]
     },
     "execution_count": 12,
     "metadata": {},
     "output_type": "execute_result"
    }
   ],
   "source": [
    "pos_proba = y_pred_proba[:,1]\n",
    "pos_proba"
   ]
  },
  {
   "cell_type": "markdown",
   "metadata": {},
   "source": [
    "_________________________________________________________________________\n",
    "**Now, plot the ROC curve.**\n"
   ]
  },
  {
   "cell_type": "code",
   "execution_count": null,
   "metadata": {
    "ExecuteTime": {
     "end_time": "2020-09-19T15:20:04.207843Z",
     "start_time": "2020-09-19T15:20:04.066079Z"
    },
    "eid": "289eb"
   },
   "outputs": [],
   "source": []
  },
  {
   "cell_type": "markdown",
   "metadata": {},
   "source": [
    "_________________________________________________________________________\n",
    "**Then, calculate the data for the precision-recall curve on the testing data using scikit-learn functionality.**\n"
   ]
  },
  {
   "cell_type": "code",
   "execution_count": 19,
   "metadata": {
    "ExecuteTime": {
     "end_time": "2020-09-19T15:23:25.299221Z",
     "start_time": "2020-09-19T15:23:25.287257Z"
    },
    "eid": "73fdb"
   },
   "outputs": [
    {
     "name": "stdout",
     "output_type": "stream",
     "text": [
      "Flase Positive Rate :  [0.         0.01842987 0.16419339 0.63140258 1.        ]\n",
      "True Positive Rate :  [0.         0.004329   0.21212121 0.7030303  1.        ]\n",
      "Threshold :  [1.2549944  0.2549944  0.24007604 0.22576598 0.21207085]\n"
     ]
    }
   ],
   "source": [
    "from sklearn.metrics import roc_curve\n",
    "import matplotlib.pyplot as plt\n",
    "%matplotlib inline\n",
    "fpr, tpr, t = roc_curve(test_y, pos_proba)\n",
    "\n",
    "print (\"Flase Positive Rate : \", fpr)\n",
    "print (\"True Positive Rate : \",tpr)\n",
    "print (\"Threshold : \",t)"
   ]
  },
  {
   "cell_type": "markdown",
   "metadata": {},
   "source": [
    "_________________________________________________________________________\n",
    "**Plot the precision-recall curve using matplotlib.**\n"
   ]
  },
  {
   "cell_type": "code",
   "execution_count": 22,
   "metadata": {
    "ExecuteTime": {
     "end_time": "2020-09-19T15:24:01.493136Z",
     "start_time": "2020-09-19T15:24:01.362560Z"
    },
    "ein": "5119c"
   },
   "outputs": [
    {
     "data": {
      "text/plain": [
       "Text(0.5, 1.0, 'ROC curve')"
      ]
     },
     "execution_count": 22,
     "metadata": {},
     "output_type": "execute_result"
    },
    {
     "data": {
      "image/png": "[encoded data removed]",
      "text/plain": [
       "<Figure size 432x288 with 1 Axes>"
      ]
     },
     "metadata": {
      "needs_background": "light"
     },
     "output_type": "display_data"
    }
   ],
   "source": [
    "plt.plot(fpr, tpr, '*-')\n",
    "plt.plot([0, 1], [0, 1], 'r--')\n",
    "plt.legend(['Logistic regression', 'Random chance'])\n",
    "plt.xlabel('FPR')\n",
    "plt.ylabel('TPR')\n",
    "plt.title('ROC curve')"
   ]
  },
  {
   "cell_type": "markdown",
   "metadata": {},
   "source": [
    "_________________________________________________________________________\n",
    "**Now, use scikit-learn to calculate the area under the precision-recall curve.**\n"
   ]
  },
  {
   "cell_type": "code",
   "execution_count": 25,
   "metadata": {
    "ExecuteTime": {
     "end_time": "2020-09-19T15:25:26.153569Z",
     "start_time": "2020-09-19T15:25:26.137609Z"
    },
    "eid": "34e7d"
   },
   "outputs": [
    {
     "name": "stdout",
     "output_type": "stream",
     "text": [
      "Area under ROC-AUC cureve :  0.5434650477972642\n"
     ]
    }
   ],
   "source": [
    "from sklearn.metrics import roc_auc_score\n",
    "print(\"Area under ROC-AUC cureve : \",roc_auc_score(test_y, pos_proba))"
   ]
  },
  {
   "cell_type": "markdown",
   "metadata": {},
   "source": [
    "_________________________________________________________________________\n",
    "**Finally, recalculate the ROC AUC, except this time do it for the training data.**"
   ]
  },
  {
   "cell_type": "code",
   "execution_count": 28,
   "metadata": {
    "ExecuteTime": {
     "end_time": "2020-09-19T15:31:50.031226Z",
     "start_time": "2020-09-19T15:31:50.028225Z"
    }
   },
   "outputs": [],
   "source": [
    "train_pos = test_y == 1"
   ]
  },
  {
   "cell_type": "code",
   "execution_count": null,
   "metadata": {
    "eid": "d61c3"
   },
   "outputs": [],
   "source": [
    "fpr, tpr, t = roc_curve(train_y, pos_proba)\n",
    "\n",
    "print (\"Flase Positive Rate : \", fpr)\n",
    "print (\"True Positive Rate : \",tpr)\n",
    "print (\"Threshold : \",t)"
   ]
  },
  {
   "cell_type": "markdown",
   "metadata": {},
   "source": [
    "    How is this different, conceptually and quantitatively, from your earlier calculation?\n"
   ]
  }
 ],
 "metadata": {
  "kernelspec": {
   "display_name": "Python 3",
   "language": "python",
   "name": "python3"
  },
  "language_info": {
   "codemirror_mode": {
    "name": "ipython",
    "version": 3
   },
   "file_extension": ".py",
   "mimetype": "text/x-python",
   "name": "python",
   "nbconvert_exporter": "python",
   "pygments_lexer": "ipython3",
   "version": "3.8.3"
  },
  "varInspector": {
   "cols": {
    "lenName": 16,
    "lenType": 16,
    "lenVar": 40
   },
   "kernels_config": {
    "python": {
     "delete_cmd_postfix": "",
     "delete_cmd_prefix": "del ",
     "library": "var_list.py",
     "varRefreshCmd": "print(var_dic_list())"
    },
    "r": {
     "delete_cmd_postfix": ") ",
     "delete_cmd_prefix": "rm(",
     "library": "var_list.r",
     "varRefreshCmd": "cat(var_dic_list()) "
    }
   },
   "types_to_exclude": [
    "module",
    "function",
    "builtin_function_or_method",
    "instance",
    "_Feature"
   ],
   "window_display": false
  }
 },
 "nbformat": 4,
 "nbformat_minor": 2
}
