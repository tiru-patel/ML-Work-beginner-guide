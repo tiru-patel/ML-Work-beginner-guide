{
 "cells": [
  {
   "cell_type": "markdown",
   "metadata": {},
   "source": [
    "**Run the following two cells before you begin.**"
   ]
  },
  {
   "cell_type": "code",
   "execution_count": 2,
   "metadata": {
    "ExecuteTime": {
     "end_time": "2020-09-20T16:56:07.059012Z",
     "start_time": "2020-09-20T16:56:07.035280Z"
    }
   },
   "outputs": [
    {
     "data": {
      "application/javascript": [
       "IPython.notebook.set_autosave_interval(10000)"
      ]
     },
     "metadata": {},
     "output_type": "display_data"
    },
    {
     "name": "stdout",
     "output_type": "stream",
     "text": [
      "Autosaving every 10 seconds\n"
     ]
    }
   ],
   "source": [
    "%autosave 10"
   ]
  },
  {
   "cell_type": "code",
   "execution_count": 3,
   "metadata": {
    "ExecuteTime": {
     "end_time": "2020-09-20T16:56:08.572482Z",
     "start_time": "2020-09-20T16:56:07.062866Z"
    }
   },
   "outputs": [],
   "source": [
    "import pandas as pd\n",
    "import numpy as np\n",
    "import os \n",
    "import math\n",
    "os.chdir(\"C:\\\\Users\\\\tirth\\\\Technocolabs\\\\project 2\\\\Data set\")"
   ]
  },
  {
   "cell_type": "markdown",
   "metadata": {},
   "source": [
    "______________________________________________________________________\n",
    "**First, import your data set and define the sigmoid function.**\n",
    "<details>\n",
    "    <summary>Hint:</summary>\n",
    "    The definition of the sigmoid is $f(x) = \\frac{1}{1 + e^{-X}}$.\n",
    "</details>"
   ]
  },
  {
   "cell_type": "code",
   "execution_count": 4,
   "metadata": {
    "ExecuteTime": {
     "end_time": "2020-09-20T16:56:08.785985Z",
     "start_time": "2020-09-20T16:56:08.576466Z"
    }
   },
   "outputs": [],
   "source": [
    "# Import the data set\n",
    "df = pd.read_csv(\"cleaned_data.csv\")"
   ]
  },
  {
   "cell_type": "code",
   "execution_count": 21,
   "metadata": {
    "ExecuteTime": {
     "end_time": "2020-09-20T17:03:58.953168Z",
     "start_time": "2020-09-20T17:03:58.948096Z"
    }
   },
   "outputs": [],
   "source": [
    "# Define the sigmoid function\n",
    "def sigmoid(X):\n",
    "    Y = 1 / (1 + np.exp(-X))\n",
    "    return Y"
   ]
  },
  {
   "cell_type": "markdown",
   "metadata": {},
   "source": [
    "**Now, create a train/test split (80/20) with `PAY_1` and `LIMIT_BAL` as features and `default payment next month` as values. Use a random state of 24.**"
   ]
  },
  {
   "cell_type": "code",
   "execution_count": 22,
   "metadata": {
    "ExecuteTime": {
     "end_time": "2020-09-20T17:04:00.766914Z",
     "start_time": "2020-09-20T17:04:00.722638Z"
    }
   },
   "outputs": [],
   "source": [
    "# Create a train/test split\n",
    "x = df[['PAY_1','LIMIT_BAL']]\n",
    "y = df['default payment next month']\n",
    "\n",
    "from sklearn.model_selection import train_test_split as tts \n",
    "train_x, test_x, train_y, test_y = tts(x,y,test_size=0.2,random_state =96,stratify=y)"
   ]
  },
  {
   "cell_type": "code",
   "execution_count": null,
   "metadata": {
    "ExecuteTime": {
     "end_time": "2020-09-19T16:37:43.430634Z",
     "start_time": "2020-09-19T16:37:43.412672Z"
    }
   },
   "outputs": [],
   "source": []
  },
  {
   "cell_type": "markdown",
   "metadata": {},
   "source": [
    "______________________________________________________________________\n",
    "**Next, import LogisticRegression, with the default options, but set the solver to `'liblinear'`.**"
   ]
  },
  {
   "cell_type": "code",
   "execution_count": 23,
   "metadata": {
    "ExecuteTime": {
     "end_time": "2020-09-20T17:04:01.773268Z",
     "start_time": "2020-09-20T17:04:01.760709Z"
    }
   },
   "outputs": [],
   "source": [
    "from sklearn.linear_model import LogisticRegression as lr \n",
    "model = lr(random_state=96, solver=\"liblinear\")"
   ]
  },
  {
   "cell_type": "markdown",
   "metadata": {},
   "source": [
    "______________________________________________________________________\n",
    "**Now, train on the training data and obtain predicted classes, as well as class probabilities, using the testing data.**"
   ]
  },
  {
   "cell_type": "code",
   "execution_count": 24,
   "metadata": {
    "ExecuteTime": {
     "end_time": "2020-09-20T17:04:02.536522Z",
     "start_time": "2020-09-20T17:04:02.504643Z"
    }
   },
   "outputs": [
    {
     "data": {
      "text/plain": [
       "LogisticRegression(random_state=96, solver='liblinear')"
      ]
     },
     "execution_count": 24,
     "metadata": {},
     "output_type": "execute_result"
    }
   ],
   "source": [
    "# Fit the logistic regression model on training data\n",
    "model.fit(train_x,train_y)"
   ]
  },
  {
   "cell_type": "code",
   "execution_count": 25,
   "metadata": {
    "ExecuteTime": {
     "end_time": "2020-09-20T17:04:02.906202Z",
     "start_time": "2020-09-20T17:04:02.891098Z"
    }
   },
   "outputs": [],
   "source": [
    "# Make predictions using `.predict()`\n",
    "pred_y = model.predict(test_x)"
   ]
  },
  {
   "cell_type": "code",
   "execution_count": 26,
   "metadata": {
    "ExecuteTime": {
     "end_time": "2020-09-20T17:04:03.306388Z",
     "start_time": "2020-09-20T17:04:03.291414Z"
    }
   },
   "outputs": [
    {
     "data": {
      "text/plain": [
       "array([[0.7081656 , 0.2918344 ],\n",
       "       [0.93029843, 0.06970157],\n",
       "       [0.69387531, 0.30612469],\n",
       "       ...,\n",
       "       [0.6641663 , 0.3358337 ],\n",
       "       [0.88551742, 0.11448258],\n",
       "       [0.92091899, 0.07908101]])"
      ]
     },
     "execution_count": 26,
     "metadata": {},
     "output_type": "execute_result"
    }
   ],
   "source": [
    "train_p = model.predict_proba(train_x)\n",
    "train_p"
   ]
  },
  {
   "cell_type": "code",
   "execution_count": 38,
   "metadata": {
    "ExecuteTime": {
     "end_time": "2020-09-20T17:06:35.375080Z",
     "start_time": "2020-09-20T17:06:35.360784Z"
    }
   },
   "outputs": [
    {
     "data": {
      "text/plain": [
       "array([[0.58442327, 0.41557673],\n",
       "       [0.53404307, 0.46595693],\n",
       "       [0.67920226, 0.32079774],\n",
       "       ...,\n",
       "       [0.60088402, 0.39911598],\n",
       "       [0.58442327, 0.41557673],\n",
       "       [0.79638195, 0.20361805]])"
      ]
     },
     "execution_count": 38,
     "metadata": {},
     "output_type": "execute_result"
    }
   ],
   "source": [
    "# Find class probabilities using `.predict_proba()`\n",
    "pred_prob = model.predict_proba(test_x)\n",
    "pred_prob"
   ]
  },
  {
   "cell_type": "markdown",
   "metadata": {},
   "source": [
    "______________________________________________________________________\n",
    "**Then, pull out the coefficients and intercept from the trained model and manually calculate predicted probabilities. You'll need to add a column of 1s to your features, to multiply by the intercept.**"
   ]
  },
  {
   "cell_type": "code",
   "execution_count": 28,
   "metadata": {
    "ExecuteTime": {
     "end_time": "2020-09-20T17:04:04.723413Z",
     "start_time": "2020-09-20T17:04:04.716234Z"
    }
   },
   "outputs": [],
   "source": [
    "# Add column of 1s to features\n"
   ]
  },
  {
   "cell_type": "code",
   "execution_count": 29,
   "metadata": {
    "ExecuteTime": {
     "end_time": "2020-09-20T17:04:06.802337Z",
     "start_time": "2020-09-20T17:04:06.796109Z"
    }
   },
   "outputs": [],
   "source": [
    "# Get coefficients and intercepts from trained model\n",
    "coef = model.coef_\n",
    "intercept = model.intercept_"
   ]
  },
  {
   "cell_type": "code",
   "execution_count": 31,
   "metadata": {
    "ExecuteTime": {
     "end_time": "2020-09-20T17:04:12.245588Z",
     "start_time": "2020-09-20T17:04:12.233873Z"
    }
   },
   "outputs": [
    {
     "data": {
      "text/plain": [
       "array([[0.5       , 0.41557673],\n",
       "       [0.5       , 0.46595693],\n",
       "       [0.5       , 0.32079774],\n",
       "       ...,\n",
       "       [0.5       , 0.39911598],\n",
       "       [0.5       , 0.41557673],\n",
       "       [0.5       , 0.20361805]])"
      ]
     },
     "execution_count": 31,
     "metadata": {},
     "output_type": "execute_result"
    }
   ],
   "source": [
    "manual_y_proba = sigmoid((coef * test_x.values) + intercept)\n",
    "manual_y_proba"
   ]
  },
  {
   "cell_type": "code",
   "execution_count": null,
   "metadata": {
    "ExecuteTime": {
     "end_time": "2020-09-19T16:46:01.465313Z",
     "start_time": "2020-09-19T16:46:01.457616Z"
    }
   },
   "outputs": [],
   "source": []
  },
  {
   "cell_type": "markdown",
   "metadata": {},
   "source": [
    "______________________________________________________________________\n",
    "**Next, using a threshold of `0.5`, manually calculate predicted classes. Compare this to the class predictions output by scikit-learn.**"
   ]
  },
  {
   "cell_type": "code",
   "execution_count": 32,
   "metadata": {
    "ExecuteTime": {
     "end_time": "2020-09-20T17:04:37.431364Z",
     "start_time": "2020-09-20T17:04:37.409632Z"
    }
   },
   "outputs": [
    {
     "data": {
      "text/plain": [
       "array([0, 0, 0, ..., 0, 0, 0])"
      ]
     },
     "execution_count": 32,
     "metadata": {},
     "output_type": "execute_result"
    }
   ],
   "source": [
    "# Manually calculate predicted classes\n",
    "threshold = 0.5\n",
    "manual_y_pred = []\n",
    "\n",
    "for i in manual_y_proba[:, 1]:\n",
    "    if i >= threshold:\n",
    "        manual_y_pred.append(1)\n",
    "    else:\n",
    "        manual_y_pred.append(0)\n",
    "\n",
    "manual_y_pred = np.asarray(manual_y_pred)        \n",
    "\n",
    "manual_y_pred"
   ]
  },
  {
   "cell_type": "code",
   "execution_count": 34,
   "metadata": {
    "ExecuteTime": {
     "end_time": "2020-09-20T17:05:28.579753Z",
     "start_time": "2020-09-20T17:05:28.459626Z"
    }
   },
   "outputs": [
    {
     "name": "stdout",
     "output_type": "stream",
     "text": [
      "Positives = 0 and Negatives = 5333 are predicted classes.\n",
      "Positives = 0 and Negatives = 5333 are maually predicted classes.\n"
     ]
    }
   ],
   "source": [
    "# Compare to scikit-learn's predicted classes\n",
    "pos = pred_y == 1\n",
    "neg = pred_y == 0\n",
    "manual_pos = manual_y_pred == 1\n",
    "manual_neg = manual_y_pred == 0\n",
    "print(f\"Positives = {sum(pos)} and Negatives = {sum(neg)} are predicted classes.\")\n",
    "print(f\"Positives = {sum(manual_pos)} and Negatives = {sum(manual_neg)} are maually predicted classes.\")"
   ]
  },
  {
   "cell_type": "markdown",
   "metadata": {},
   "source": [
    "______________________________________________________________________\n",
    "**Finally, calculate ROC AUC using both scikit-learn's predicted probabilities, and your manually predicted probabilities, and compare.**"
   ]
  },
  {
   "cell_type": "code",
   "execution_count": 39,
   "metadata": {
    "ExecuteTime": {
     "end_time": "2020-09-20T17:06:40.183163Z",
     "start_time": "2020-09-20T17:06:40.170845Z"
    },
    "eid": "e7697"
   },
   "outputs": [
    {
     "name": "stdout",
     "output_type": "stream",
     "text": [
      "ROC AUC Score for predicted probabilities: 0.633534306286855\n"
     ]
    }
   ],
   "source": [
    "# Use scikit-learn's predicted probabilities to calculate ROC AUC\n",
    "from sklearn import metrics\n",
    "print(f\"predicted probabilities: {metrics.roc_auc_score(test_y, pred_prob[:, 1])}\")"
   ]
  },
  {
   "cell_type": "code",
   "execution_count": 40,
   "metadata": {
    "ExecuteTime": {
     "end_time": "2020-09-20T17:07:17.729386Z",
     "start_time": "2020-09-20T17:07:17.708223Z"
    }
   },
   "outputs": [
    {
     "name": "stdout",
     "output_type": "stream",
     "text": [
      "manually predicted probabilities: 0.6258746906476287\n"
     ]
    }
   ],
   "source": [
    "# Use manually calculated predicted probabilities to calculate ROC AUC\n",
    "print(f\"manually predicted probabilities: {metrics.roc_auc_score(test_y, manual_y_proba[:, 1])}\")"
   ]
  },
  {
   "cell_type": "code",
   "execution_count": null,
   "metadata": {},
   "outputs": [],
   "source": []
  }
 ],
 "metadata": {
  "kernelspec": {
   "display_name": "Python 3",
   "language": "python",
   "name": "python3"
  },
  "language_info": {
   "codemirror_mode": {
    "name": "ipython",
    "version": 3
   },
   "file_extension": ".py",
   "mimetype": "text/x-python",
   "name": "python",
   "nbconvert_exporter": "python",
   "pygments_lexer": "ipython3",
   "version": "3.8.3"
  },
  "varInspector": {
   "cols": {
    "lenName": 16,
    "lenType": 16,
    "lenVar": 40
   },
   "kernels_config": {
    "python": {
     "delete_cmd_postfix": "",
     "delete_cmd_prefix": "del ",
     "library": "var_list.py",
     "varRefreshCmd": "print(var_dic_list())"
    },
    "r": {
     "delete_cmd_postfix": ") ",
     "delete_cmd_prefix": "rm(",
     "library": "var_list.r",
     "varRefreshCmd": "cat(var_dic_list()) "
    }
   },
   "types_to_exclude": [
    "module",
    "function",
    "builtin_function_or_method",
    "instance",
    "_Feature"
   ],
   "window_display": false
  }
 },
 "nbformat": 4,
 "nbformat_minor": 2
}
